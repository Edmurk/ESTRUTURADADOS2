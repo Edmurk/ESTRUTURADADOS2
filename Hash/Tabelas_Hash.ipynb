{
  "cells": [
    {
      "cell_type": "code",
      "source": [
        "def funcao_hash(chave, tamanho_tabela):\n",
        "    # Soma os valores ASCII de cada caractere da chave\n",
        "    soma = sum(ord(c) for c in chave)\n",
        "    # Usa módulo para garantir que o índice esteja dentro dos limites da tabela\n",
        "    indice = soma % tamanho_tabela\n",
        "    return indice\n",
        "\n",
        "# Exemplo de uso\n",
        "chave = \"Carlos\"\n",
        "tamanho = 10\n",
        "indice_hash = funcao_hash(chave, tamanho)\n",
        "\n",
        "print(f\"Chave: {chave}\")\n",
        "print(f\"Índice na tabela: {indice_hash}\")"
      ],
      "metadata": {
        "colab": {
          "base_uri": "https://localhost:8080/"
        },
        "id": "oUtf9Piwb02U",
        "outputId": "daf3b1f8-06a2-4f5a-b4e4-0530703759f4"
      },
      "execution_count": null,
      "outputs": [
        {
          "output_type": "stream",
          "name": "stdout",
          "text": [
            "Chave: Carlos\n",
            "Índice na tabela: 2\n"
          ]
        }
      ]
    },
    {
      "cell_type": "code",
      "source": [
        "calc = ord('J') + ord('o') + ord('ã') + ord('o')\n",
        "#calc = ord('C') + ord('a') + ord('r') + ord('l') + ord('o') + ord('s')\n",
        "\n",
        "# 67 + 97 + 114 + 108 + 111 + 115 = 612\n",
        "\n",
        "calc % tamanho\n",
        "\n",
        "# 612 % 10 = 2"
      ],
      "metadata": {
        "colab": {
          "base_uri": "https://localhost:8080/"
        },
        "id": "X8c99DOScLQD",
        "outputId": "49b6fd11-b7fd-4841-f939-a89a1c09bf97"
      },
      "execution_count": null,
      "outputs": [
        {
          "output_type": "execute_result",
          "data": {
            "text/plain": [
              "3"
            ]
          },
          "metadata": {},
          "execution_count": 2
        }
      ]
    },
    {
      "cell_type": "markdown",
      "source": [
        "# Tabelas Hash\n",
        "\n",
        "A estrutura de dados hash, ou tabela hash (em inglês hash table), é uma das estruturas mais eficientes para armazenar e acessar dados de forma rápida. Ela é amplamente utilizada quando há a necessidade de buscar, inserir ou deletar elementos com complexidade média constante $O(1)$, em condições ideais.\n",
        "\n",
        "<img width=\"500\" src=\"https://blog.pantuza.com/uploads/a90f6d24797c07ea242d55410b92ce5c8c8f4c79\" />\n",
        "\n",
        "\n",
        "Fonte: <a href=\"https://blog.pantuza.com/uploads/a90f6d24797c07ea242d55410b92ce5c8c8f4c79\">https://blog.pantuza.com/uploads/a90f6d24797c07ea242d55410b92ce5c8c8f4c79</a>\n",
        "\n",
        "## Conceitos Básicos\n",
        "\n",
        "1. Hashing\n",
        "\n",
        "  Hashing é o processo de converter uma entrada (chave) em um valor de tamanho fixo, geralmente um índice, que pode ser usado para localizar a entrada na tabela de hash. Isso é feito por meio de uma função hash.\n",
        "\n",
        "2. Função Hash\n",
        "\n",
        "  Uma função hash recebe uma chave e retorna um valor hash, que é usado como índice na tabela hash. A função hash deve distribuir as chaves uniformemente para evitar colisões.\n",
        "\n",
        "3. Tamanho da Tabela\n",
        "\n",
        "O tamanho da tabela hash afeta seu desempenho. Uma tabela muito pequena pode levar a muitas colisões, enquanto uma tabela muito grande desperdiça memória. A escolha do tamanho geralmente é um número primo para reduzir a probabilidade de colisões.\n",
        "\n",
        "Operações Básicas\n",
        "\n",
        "  - Inserção\n",
        "\n",
        "  Para inserir um elemento, a chave é passada pela função hash para determinar o índice onde o valor será armazenado. Se ocorrer uma colisão, uma das estratégias de resolução de colisões é aplicada.\n",
        "\n",
        "  - Busca\n",
        "\n",
        "  Para buscar um elemento, a chave é novamente passada pela função hash para determinar o índice. Se houver uma colisão, a mesma estratégia de resolução de colisões usada na inserção é aplicada para localizar o elemento correto.\n",
        "\n",
        "  - Remoção\n",
        "\n",
        "  Para remover um elemento, a chave é usada para localizar o índice, e o elemento é removido. Em caso de colisão, a estratégia de resolução de colisões ajuda a encontrar o elemento correto para remoção.\n",
        "\n",
        "4. Tratamento de Colisões\n",
        "\n",
        "Uma colisão ocorre quando duas chaves diferentes produzem o mesmo valor hash. Existem várias estratégias para resolver colisões:\n",
        "\n",
        "  <img width=\"500\" src=\"https://blog.pantuza.com/uploads/9e933b61ada71f7368d8f7ac7e8450f4b25961cf\" />\n",
        "\n",
        "\n",
        "  - Fonte: <a href=\"https://blog.pantuza.com/uploads/9e933b61ada71f7368d8f7ac7e8450f4b25961cf\">https://blog.pantuza.com/uploads/9e933b61ada71f7368d8f7ac7e8450f4b25961cf</a>\n",
        "\n",
        "\n",
        "\n",
        "\n",
        "\n",
        "## Encadeamento (Chaining)\n",
        "\n",
        "Encadeamento é uma estratégia para resolver colisões em uma tabela hash, onde cada posição da tabela contém uma estrutura de dados dinâmica (normalmente uma lista encadeada ou uma lista comum) que armazena todos os elementos que mapeiam para o mesmo índice.\n",
        "\n",
        "Cada índice da tabela aponta para uma lista vinculada de entradas que têm o mesmo valor hash.\n",
        "  \n",
        "\n",
        "  <img width=\"500\" src=\"https://media.geeksforgeeks.org/wp-content/uploads/chain-hashing-1.png\" />\n",
        "\n",
        "\n",
        "  - Fonte: <a href=\"https://media.geeksforgeeks.org/wp-content/uploads/chain-hashing-1.png\"> https://media.geeksforgeeks.org/wp-content/uploads/chain-hashing-1.png </a>\n",
        "\n",
        "  \n",
        "\n"
      ],
      "metadata": {
        "id": "XqPBHHU62iDy"
      }
    },
    {
      "cell_type": "code",
      "source": [
        "# Exemplo Prático\n",
        "\n",
        "# Função hash simples: retorna o índice baseado no tamanho da tabela\n",
        "def hash_func(valor, tamanho_tabela):\n",
        "    return valor % tamanho_tabela\n",
        "\n",
        "# Classe da Tabela Hash com encadeamento\n",
        "class TabelaHash:\n",
        "    def __init__(self, tamanho):\n",
        "        self.tamanho = tamanho\n",
        "        self.tabela = [[] for _ in range(tamanho)]  # Cria uma lista de listas (encadeamento)\n",
        "\n",
        "    # Método para inserir um valor na tabela\n",
        "    def inserir(self, valor):\n",
        "        indice = hash_func(valor, self.tamanho)  # Aplica a função hash\n",
        "        if valor not in self.tabela[indice]:     # Evita inserção duplicada\n",
        "            self.tabela[indice].append(valor)    # Adiciona o valor no índice correto (chaining)\n",
        "\n",
        "    # Método para buscar um valor na tabela\n",
        "    def buscar(self, valor):\n",
        "        indice = hash_func(valor, self.tamanho)  # Calcula o índice\n",
        "        return valor in self.tabela[indice]      # Retorna True se o valor está na lista desse índice\n",
        "\n",
        "    # Método para remover um valor da tabela\n",
        "    def remover(self, valor):\n",
        "        indice = hash_func(valor, self.tamanho)  # Localiza o índice\n",
        "        if valor in self.tabela[indice]:         # Se o valor existir na lista...\n",
        "            self.tabela[indice].remove(valor)    # Remove o valor\n",
        "            return True\n",
        "        return False                             # Retorna False se o valor não foi encontrado\n",
        "\n",
        "    # Método para exibir o conteúdo da tabela\n",
        "    def mostrar(self):\n",
        "        for i, lista in enumerate(self.tabela):\n",
        "            print(f\"Índice {i}: {lista}\")"
      ],
      "metadata": {
        "id": "RG7NfAyijV4l"
      },
      "execution_count": null,
      "outputs": []
    },
    {
      "cell_type": "code",
      "source": [
        "# Criar uma tabela com 5 posições\n",
        "tabela = TabelaHash(5)\n",
        "\n",
        "# Inserir valores\n",
        "valores = [1, 6, 11, 2]\n",
        "for v in valores:\n",
        "    tabela.inserir(v)\n",
        "\n",
        "# Mostrar a tabela\n",
        "print(\"Tabela após inserções:\")\n",
        "tabela.mostrar()\n",
        "\n",
        "# Buscar valores\n",
        "print(\"\\nBuscar 6:\", tabela.buscar(6))    # Deve retornar True\n",
        "print(\"Buscar 10:\", tabela.buscar(10))    # Deve retornar False\n",
        "\n",
        "# Remover valor\n",
        "print(\"\\nRemover 6:\", tabela.remover(6))  # Deve retornar True\n",
        "print(\"Remover 10:\", tabela.remover(10))  # Deve retornar False\n",
        "\n",
        "# Mostrar a tabela após remoção\n",
        "print(\"\\nTabela após remoções:\")\n",
        "tabela.mostrar()\n"
      ],
      "metadata": {
        "colab": {
          "base_uri": "https://localhost:8080/"
        },
        "id": "k_1o0sYxjp1W",
        "outputId": "0b8167cc-892b-408c-ed3e-93aa49d05b78"
      },
      "execution_count": null,
      "outputs": [
        {
          "output_type": "stream",
          "name": "stdout",
          "text": [
            "Tabela após inserções:\n",
            "Índice 0: []\n",
            "Índice 1: [1, 6, 11]\n",
            "Índice 2: [2]\n",
            "Índice 3: []\n",
            "Índice 4: []\n",
            "\n",
            "Buscar 6: True\n",
            "Buscar 10: False\n",
            "\n",
            "Remover 6: True\n",
            "Remover 10: False\n",
            "\n",
            "Tabela após remoções:\n",
            "Índice 0: []\n",
            "Índice 1: [1, 11]\n",
            "Índice 2: [2]\n",
            "Índice 3: []\n",
            "Índice 4: []\n"
          ]
        }
      ]
    },
    {
      "cell_type": "code",
      "source": [
        "tabela.mostrar()"
      ],
      "metadata": {
        "colab": {
          "base_uri": "https://localhost:8080/"
        },
        "id": "Gv81fn1vj-w4",
        "outputId": "82ab8168-25e5-4fb9-878d-536ee5097eb4"
      },
      "execution_count": null,
      "outputs": [
        {
          "output_type": "stream",
          "name": "stdout",
          "text": [
            "Índice 0: []\n",
            "Índice 1: [1, 11]\n",
            "Índice 2: [2]\n",
            "Índice 3: []\n",
            "Índice 4: []\n"
          ]
        }
      ]
    },
    {
      "cell_type": "markdown",
      "source": [
        "## Sondagem Linear (Linear Probing)\n",
        "\n",
        "Sondagem Linear (em inglês, Linear Probing) é uma técnica para resolver colisões em uma tabela hash aberta (sem encadeamento).\n",
        "\n",
        "### Como funciona?\n",
        "\n",
        "Quando ocorre uma colisão (ou seja, a posição calculada já está ocupada), a sondagem linear procura sequencialmente a próxima posição livre na tabela.\n",
        "\n",
        "  - Se a posição h(k) estiver ocupada, tenta h(k) + 1, h(k) + 2, ..., até encontrar um espaço vazio.\n",
        "\n",
        "  - Exemplo:\n",
        "  \n",
        "  Suponha uma tabela hash de tamanho 7 e a função h(k) = k % 7. Se uma colisão ocorrer, a próxima posição disponível na tabela é usada.\n",
        "\n",
        "    - Inserindo os valores: 10, 17, 24, 5\n",
        "\n",
        "    - 10 % 7 = 3 → posição 3:  livre → armazena 10\n",
        "\n",
        "    - 17 % 7 = 3 → colisão em 3 → tenta 4:  livre → armazena 17\n",
        "\n",
        "    - 24 % 7 = 3 → colisão em 3 → 4 (ocupado) → 5:  livre → armazena 24\n",
        "\n",
        "    - 5 % 7 = 5 → colisão em 5 → 6:  livre → armazena 5\n",
        "\n",
        "\n",
        "\n",
        "  <img width=\"500\" src=\"https://media.geeksforgeeks.org/wp-content/uploads/Linear-Probing-1-1.jpg\" />\n",
        "\n",
        "\n",
        "  Fonte: <a href=\"https://media.geeksforgeeks.org/wp-content/uploads/Linear-Probing-1-1.jpg\"> https://media.geeksforgeeks.org/wp-content/uploads/Linear-Probing-1-1.jpg </a>\n",
        "\n",
        "  ## Exemplo prático:"
      ],
      "metadata": {
        "id": "hSHPNSSnk-9n"
      }
    },
    {
      "cell_type": "code",
      "source": [
        "# Classe que implementa tabela hash com sondagem linear\n",
        "class TabelaHashLinear:\n",
        "    def __init__(self, tamanho):\n",
        "        self.tamanho = tamanho\n",
        "        self.tabela = [None] * tamanho  # Inicializa a tabela com 'None'\n",
        "\n",
        "    # Função hash básica: retorna o índice baseado no tamanho da tabela\n",
        "    def hash(self, chave):\n",
        "        return chave % self.tamanho\n",
        "\n",
        "    # Método para inserir uma chave usando sondagem linear\n",
        "    def inserir(self, chave):\n",
        "        indice = self.hash(chave)  # Calcula o índice base\n",
        "\n",
        "        # Tenta encontrar uma posição livre (sondagem linear)\n",
        "        for i in range(self.tamanho):\n",
        "            novo_indice = (indice + i) % self.tamanho  # Soma linear com wrap-around (tabela circular)\n",
        "            if self.tabela[novo_indice] is None or self.tabela[novo_indice] == None:\n",
        "                self.tabela[novo_indice] = chave  # Insere a chave\n",
        "                return True  # Inserção bem-sucedida\n",
        "\n",
        "        return False  # Tabela cheia, não foi possível inserir\n",
        "\n",
        "    # Método para buscar uma chave na tabela\n",
        "    def buscar(self, chave):\n",
        "        indice = self.hash(chave)  # Calcula o índice base\n",
        "\n",
        "        # Percorre a tabela a partir do índice, com wrap-around\n",
        "        for i in range(self.tamanho):\n",
        "            novo_indice = (indice + i) % self.tamanho\n",
        "            if self.tabela[novo_indice] is None:\n",
        "                return False  # Parou porque encontrou espaço vazio (não está na tabela)\n",
        "            if self.tabela[novo_indice] == chave:\n",
        "                return True  # Encontrou a chave\n",
        "\n",
        "        return False  # Chegou ao fim sem encontrar\n",
        "\n",
        "    # Método para remover uma chave da tabela\n",
        "    def remover(self, chave):\n",
        "        indice = self.hash(chave)  # Calcula o índice base\n",
        "\n",
        "        for i in range(self.tamanho):\n",
        "            novo_indice = (indice + i) % self.tamanho\n",
        "            if self.tabela[novo_indice] == chave:\n",
        "                self.tabela[novo_indice] = None  # Marca como removido (não usa None para não quebrar a sondagem)\n",
        "                return True  # Remoção bem-sucedida\n",
        "            if self.tabela[novo_indice] is None:\n",
        "                return False  # Se encontrar um espaço vazio, a chave não está na tabela\n",
        "\n",
        "        return False  # Não encontrou a chave\n",
        "\n",
        "    # Método para exibir o conteúdo da tabela\n",
        "    def mostrar(self):\n",
        "        for i, v in enumerate(self.tabela):\n",
        "            print(f\"Índice {i}: {v}\")\n"
      ],
      "metadata": {
        "id": "04RBsAoak59Z"
      },
      "execution_count": null,
      "outputs": []
    },
    {
      "cell_type": "code",
      "source": [
        "tabela = TabelaHashLinear(7)\n",
        "\n",
        "for valor in [10, 17, 24, 5]:\n",
        "    tabela.inserir(valor)\n",
        "\n",
        "print(\"\\nTabela após inserção:\")\n",
        "tabela.mostrar()\n",
        "\n",
        "print(\"\\nBuscar 24:\", tabela.buscar(24))  # True\n",
        "print(\"Remover 24:\", tabela.remover(24))  # True\n",
        "print(\"Buscar 24 após remoção:\", tabela.buscar(24))  # False\n",
        "\n",
        "print(\"\\nTabela final:\")\n",
        "tabela.mostrar()"
      ],
      "metadata": {
        "colab": {
          "base_uri": "https://localhost:8080/"
        },
        "id": "Nu9QvTE7mCtK",
        "outputId": "72c4a856-c245-4519-c7c9-09c09624b480"
      },
      "execution_count": null,
      "outputs": [
        {
          "output_type": "stream",
          "name": "stdout",
          "text": [
            "\n",
            "Tabela após inserção:\n",
            "Índice 0: None\n",
            "Índice 1: None\n",
            "Índice 2: None\n",
            "Índice 3: 10\n",
            "Índice 4: 17\n",
            "Índice 5: 24\n",
            "Índice 6: 5\n",
            "\n",
            "Buscar 24: True\n",
            "Remover 24: True\n",
            "Buscar 24 após remoção: False\n",
            "\n",
            "Tabela final:\n",
            "Índice 0: None\n",
            "Índice 1: None\n",
            "Índice 2: None\n",
            "Índice 3: 10\n",
            "Índice 4: 17\n",
            "Índice 5: None\n",
            "Índice 6: 5\n"
          ]
        }
      ]
    },
    {
      "cell_type": "markdown",
      "source": [
        "\n",
        "  \n",
        "\n",
        "## Sondagem Quadrática (Quadratic Probing)\n",
        "\n",
        "A sondagem quadrática é uma técnica de endereçamento aberto para resolver colisões em uma tabela hash.\n",
        "\n",
        "Diferente da sondagem linear, que verifica posições consecutivas, a sondagem quadrática usa saltos com incrementos quadráticos para evitar agrupamento primário.\n",
        "\n",
        "Similar à sondagem linear, mas o próximo índice é determinado por uma função quadrática.\n",
        "\n",
        "### Fórmula do índice:\n",
        "   \n",
        "   Se a posição h(k) estiver ocupada, tenta-se:\n",
        "\n",
        "   - (h(k) + 1²) % M  \n",
        "   - (h(k) + 2²) % M  \n",
        "   - (h(k) + 3²) % M  \n",
        "   ... até encontrar um espaço livre.\n",
        "\n",
        "  <img width=\"500\" src=\"https://miro.medium.com/v2/resize:fit:720/format:webp/1*OTAsXpSiDdOqEzP_KrJPhw.jpeg\" />\n",
        "\n",
        "\n",
        "  Fonte: <a href=\"https://miro.medium.com/v2/resize:fit:720/format:webp/1*OTAsXpSiDdOqEzP_KrJPhw.jpeg\">  https://miro.medium.com/v2/resize:fit:720/format:webp/1*OTAsXpSiDdOqEzP_KrJPhw.jpeg </a>"
      ],
      "metadata": {
        "id": "ImKUYZQVmOW5"
      }
    },
    {
      "cell_type": "code",
      "source": [
        "# Classe da Tabela Hash com Sondagem Quadrática\n",
        "class TabelaHashQuadratica:\n",
        "    def __init__(self, tamanho):\n",
        "        self.tamanho = tamanho\n",
        "        self.tabela = [None] * tamanho  # Inicializa a tabela com None\n",
        "\n",
        "    # Função hash simples\n",
        "    def hash(self, chave):\n",
        "        return chave % self.tamanho\n",
        "\n",
        "    # Método para inserir uma chave com sondagem quadrática\n",
        "    def inserir(self, chave):\n",
        "        indice = self.hash(chave)  # Índice base calculado pela função hash\n",
        "\n",
        "        # Tenta encontrar uma posição livre com incrementos quadráticos\n",
        "        for i in range(self.tamanho):\n",
        "            novo_indice = (indice + i * i) % self.tamanho  # fórmula da sondagem quadrática\n",
        "\n",
        "            if self.tabela[novo_indice] is None or self.tabela[novo_indice] == \"REMOVIDO\":\n",
        "                self.tabela[novo_indice] = chave  # Insere a chave\n",
        "                return True\n",
        "\n",
        "        return False  # Tabela cheia, não foi possível inserir\n",
        "\n",
        "    # Método para buscar uma chave\n",
        "    def buscar(self, chave):\n",
        "        indice = self.hash(chave)\n",
        "\n",
        "        for i in range(self.tamanho):\n",
        "            novo_indice = (indice + i * i) % self.tamanho\n",
        "\n",
        "            if self.tabela[novo_indice] is None:\n",
        "                return False  # Parou: não encontrou e chegou em espaço vazio\n",
        "            if self.tabela[novo_indice] == chave:\n",
        "                return True  # Encontrou a chave\n",
        "\n",
        "        return False  # Não encontrou após todas as tentativas\n",
        "\n",
        "    # Método para remover uma chave\n",
        "    def remover(self, chave):\n",
        "        indice = self.hash(chave)\n",
        "\n",
        "        for i in range(self.tamanho):\n",
        "            novo_indice = (indice + i * i) % self.tamanho\n",
        "\n",
        "            if self.tabela[novo_indice] == chave:\n",
        "                self.tabela[novo_indice] = \"REMOVIDO\"  # Marca como removido\n",
        "                return True\n",
        "            if self.tabela[novo_indice] is None:\n",
        "                return False  # Parou: chave não está na tabela\n",
        "\n",
        "        return False  # Não encontrou\n",
        "\n",
        "    # Método para mostrar a tabela\n",
        "    def mostrar(self):\n",
        "        for i, v in enumerate(self.tabela):\n",
        "            print(f\"Índice {i}: {v}\")\n"
      ],
      "metadata": {
        "id": "NpDZaGSgmC3h"
      },
      "execution_count": null,
      "outputs": []
    },
    {
      "cell_type": "code",
      "source": [
        "# Criar tabela com tamanho 7\n",
        "tabela = TabelaHashQuadratica(7)\n",
        "\n",
        "# Inserir valores\n",
        "for valor in [10, 17, 24, 31]:\n",
        "    tabela.inserir(valor)\n",
        "\n",
        "print(\"\\nTabela após inserções:\")\n",
        "tabela.mostrar()\n",
        "\n",
        "# Buscar um valor\n",
        "print(\"\\nBuscar 24:\", tabela.buscar(24))  # True\n",
        "\n",
        "# Remover um valor\n",
        "print(\"Remover 24:\", tabela.remover(24))  # True\n",
        "\n",
        "# Mostrar tabela após remoção\n",
        "print(\"\\nTabela após remoção:\")\n",
        "tabela.mostrar()\n"
      ],
      "metadata": {
        "colab": {
          "base_uri": "https://localhost:8080/"
        },
        "id": "HbBFUufmnjj0",
        "outputId": "7412c1b2-4a0d-41ec-fefa-771c1b546862"
      },
      "execution_count": null,
      "outputs": [
        {
          "output_type": "stream",
          "name": "stdout",
          "text": [
            "\n",
            "Tabela após inserções:\n",
            "Índice 0: 24\n",
            "Índice 1: None\n",
            "Índice 2: None\n",
            "Índice 3: 10\n",
            "Índice 4: 17\n",
            "Índice 5: 31\n",
            "Índice 6: None\n",
            "\n",
            "Buscar 24: True\n",
            "Remover 24: True\n",
            "\n",
            "Tabela após remoção:\n",
            "Índice 0: REMOVIDO\n",
            "Índice 1: None\n",
            "Índice 2: None\n",
            "Índice 3: 10\n",
            "Índice 4: 17\n",
            "Índice 5: 31\n",
            "Índice 6: None\n"
          ]
        }
      ]
    },
    {
      "cell_type": "markdown",
      "source": [
        "## Dupla Hashing (Double Hashing)\n",
        "\n",
        "Dupla Hashing é uma técnica de endereçamento aberto que usa duas funções hash para resolver colisões.\n",
        "É considerada uma das estratégias mais eficientes para reduzir agrupamentos em tabelas hash.\n",
        "\n",
        "- Como funciona?\n",
        "Se h1(k) causar uma colisão, usa-se uma segunda função h2(k) para determinar o \"passo\" (offset) de sondagem:\n",
        "\n",
        "\n",
        "\n",
        "$$novo\\_indice=(h1(k)+i⋅h2(k)) \\text{ mod } M$$\n",
        "\n",
        " Onde:\n",
        "\n",
        " - $h1(k)$ → primeira função hash\n",
        "\n",
        " - $h2(k)$ → segunda função hash, não pode retornar 0\n",
        "\n",
        " - $i$ → número da tentativa (0, 1, 2, ...)\n",
        " - $k$ → é a chave a ser inserida;\n",
        " - $m$ é o tamanho da tabela hash (idealmente um número primo);\n",
        "\n",
        "\n",
        "\n",
        "## Exemplo Visual:\n",
        "\n",
        "  <img width=\"500\" src=\" https://courses.cs.washington.edu/courses/cse326/00wi/handouts/lecture16/img025.gif\" />\n",
        "\n",
        "\n",
        "  Fonte: <a href=\"https://courses.cs.washington.edu/courses/cse326/00wi/handouts/lecture16/img025.gif\">  https://courses.cs.washington.edu/courses/cse326/00wi/handouts/lecture16/img025.gif </a>\n",
        "\n",
        "\n",
        "\n",
        "Exemplo Numérico\n",
        "Na tabela $m$ = 7 e as funções:\n",
        "\n",
        " - $ h1(k) = k \\text{ mod } 7 $\n",
        "\n",
        " - $h2(k) = 5 −(k \\text{ mod } 5)$\n",
        "\n",
        "1. Inserindo a chave k = 76:\n",
        "\n",
        " - $ h1(76) = 76 \\text{ mod }7 = 6 $\n",
        " - Posição 6 está livre → insere 76\n",
        " - probes: 1\n",
        "\n",
        "2. Inserindo a chave k = 93:\n",
        "\n",
        " - $ h1(93) = 93 \\text{ mod }7 = 2 $\n",
        " - Posição 2 está livre → insere 93\n",
        " - probes: 1\n",
        "\n",
        "3. Inserindo a chave k = 40:\n",
        "\n",
        " - $ h1(40) = 40 \\text{ mod }7 = 5 $\n",
        " - Posição 5 está livre → insere 40\n",
        " - probes: 1\n",
        "\n",
        "4. Inserindo a chave k = 47:\n",
        "\n",
        " - $ h1(47) = 47 \\text{ mod }7 = 5 $\n",
        " - Posição 5 está está ocupada com 40 → colisão\n",
        " - $h2(47) = 5 −(47 \\text{ mod } 5) = 5 - 2 = 3$\n",
        " - 2ª tentativa: $(5+1 \\cdot 3)\\text{ mod }13 = 11$\n",
        " - probes: 2\n",
        "\n",
        "5. Inserindo a chave k = 10:\n",
        "\n",
        " - $ h1(10) = 10 \\text{ mod }7 = 3 $\n",
        " - Posição 5 está livre → insere 10\n",
        " - probes: 1\n",
        "\n",
        "6. Inserindo a chave k = 55:\n",
        "\n",
        " - $ h1(55) = 55 \\text{ mod }7 = 6 $\n",
        " - Posição 6 está está ocupada com 76 → colisão\n",
        " - $h2(55) = 5 −(55 \\text{ mod } 5) = 5 - 0 = 5$\n",
        " - 2ª tentativa: $(6+1 \\cdot 5)\\text{ mod }4 = 4$\n",
        " - Posição 5 está livre → insere 10\n",
        " - probes: 2\n",
        "\n",
        "### Varias tentativas\n",
        "7. Inserindo a chave k = 24:\n",
        "\n",
        " - $ h1(24) = 24 \\text{ mod }7 = 3 $\n",
        " - Posição 3 está está ocupada com 10 → colisão\n",
        " - $h2(24) = 5 −(24 \\text{ mod } 5) = 5 - 4 = 1$\n",
        " - 2ª tentativa: $(3+1 \\cdot 1)\\text{ mod }7 = 4$\n",
        "\n",
        "\n",
        "Se a posição estiver ocupada, tentativas seguintes são:\n",
        "\n",
        " - 3ª tentativa: $(3+2⋅1)\\text{ mod }7 = 5$\n",
        "\n",
        " - 4ª tentativa: $(3+3⋅1)\\text{ mod }7 = 6$\n",
        "\n",
        " - 5ª tentativa: $(3+4⋅1)\\text{ mod }7 = 0$\n",
        "   \n",
        "   ...e assim por diante se houver mais colisões.\n",
        "\n",
        "- Posição 0 está livre → insere 24\n",
        " - probes: 5\n",
        "\n",
        "\n"
      ],
      "metadata": {
        "id": "pQ8Nl-BcjFZX"
      }
    },
    {
      "cell_type": "code",
      "source": [
        "# Classe TabelaHash com Dupla Hashing\n",
        "class TabelaHashDupla:\n",
        "    def __init__(self, tamanho):\n",
        "        self.tamanho = tamanho\n",
        "        self.tabela = [None] * tamanho\n",
        "\n",
        "    def eh_primo(self, n):\n",
        "      if n < 2:\n",
        "          return False\n",
        "      for i in range(2, int(n**0.5) + 1):\n",
        "          if n % i == 0:\n",
        "              return False\n",
        "      return True\n",
        "\n",
        "    def primo_anterior(self,p):\n",
        "        n = p - 1\n",
        "        while n >= 2:\n",
        "            if self.eh_primo(n):\n",
        "                return n\n",
        "            n -= 1\n",
        "        return None  # Não existe primo antes de 2\n",
        "\n",
        "    # Primeira função hash\n",
        "    def hash1(self, chave):\n",
        "        return chave % self.tamanho\n",
        "\n",
        "    # Segunda função hash — deve ser diferente de zero\n",
        "    def hash2(self, chave):\n",
        "        primo_anterior = self.primo_anterior(self.tamanho)\n",
        "        return (primo_anterior - (chave % primo_anterior))  # Garante passo ≠ 0\n",
        "\n",
        "    # Inserção com dupla hashing\n",
        "    def inserir(self, chave):\n",
        "        indice1 = self.hash1(chave)\n",
        "        passo = self.hash2(chave)\n",
        "\n",
        "        # Tenta encontrar uma posição livre usando h1 + i*h2\n",
        "        for i in range(self.tamanho):\n",
        "            novo_indice = (indice1 + i * passo) % self.tamanho\n",
        "\n",
        "            if self.tabela[novo_indice] is None or self.tabela[novo_indice] == \"REMOVIDO\":\n",
        "                self.tabela[novo_indice] = chave\n",
        "                return True\n",
        "\n",
        "        return False  # Tabela cheia\n",
        "\n",
        "    # Busca com dupla hashing\n",
        "    def buscar(self, chave):\n",
        "        indice1 = self.hash1(chave)\n",
        "        passo = self.hash2(chave)\n",
        "\n",
        "        for i in range(self.tamanho):\n",
        "            novo_indice = (indice1 + i * passo) % self.tamanho\n",
        "\n",
        "            if self.tabela[novo_indice] is None:\n",
        "                return False  # Parou: valor não está\n",
        "            if self.tabela[novo_indice] == chave:\n",
        "                return True\n",
        "\n",
        "        return False\n",
        "\n",
        "    # Remoção com dupla hashing\n",
        "    def remover(self, chave):\n",
        "        indice1 = self.hash1(chave)\n",
        "        passo = self.hash2(chave)\n",
        "\n",
        "        for i in range(self.tamanho):\n",
        "            novo_indice = (indice1 + i * passo) % self.tamanho\n",
        "\n",
        "            if self.tabela[novo_indice] == chave:\n",
        "                self.tabela[novo_indice] = \"REMOVIDO\"\n",
        "                return True\n",
        "            if self.tabela[novo_indice] is None:\n",
        "                return False  # Parou: não está\n",
        "\n",
        "        return False\n",
        "\n",
        "    # Mostrar a tabela\n",
        "    def mostrar(self):\n",
        "        for i, valor in enumerate(self.tabela):\n",
        "            print(f\"Índice {i}: {valor}\")\n"
      ],
      "metadata": {
        "id": "J25mdodTpMMT"
      },
      "execution_count": null,
      "outputs": []
    },
    {
      "cell_type": "code",
      "source": [
        "# Criando a tabela com tamanho primo (recomendado para double hashing)\n",
        "tabela = TabelaHashDupla(7)\n",
        "\n",
        "# Inserindo elementos\n",
        "for valor in [76, 93, 40, 47, 10, 55, 24]:\n",
        "    tabela.inserir(valor)\n",
        "\n",
        "print(\"\\nTabela após inserção:\")\n",
        "tabela.mostrar()\n",
        "\n",
        "\n"
      ],
      "metadata": {
        "colab": {
          "base_uri": "https://localhost:8080/"
        },
        "id": "499EW7CDpMQb",
        "outputId": "63202c5d-ae4b-423e-8ef0-97c6490ca80f"
      },
      "execution_count": null,
      "outputs": [
        {
          "output_type": "stream",
          "name": "stdout",
          "text": [
            "\n",
            "Tabela após inserção:\n",
            "Índice 0: 24\n",
            "Índice 1: 47\n",
            "Índice 2: 93\n",
            "Índice 3: 10\n",
            "Índice 4: 55\n",
            "Índice 5: 40\n",
            "Índice 6: 76\n"
          ]
        }
      ]
    },
    {
      "cell_type": "code",
      "source": [
        "# Buscar e remover\n",
        "print(\"\\nBuscar 31:\", tabela.buscar(31))  # True\n",
        "print(\"Remover 31:\", tabela.remover(31))  # True\n",
        "print(\"Buscar 31:\", tabela.buscar(31))    # False\n",
        "\n",
        "print(\"\\nTabela final:\")\n",
        "tabela.mostrar()"
      ],
      "metadata": {
        "id": "Emhs7TBQNN0O"
      },
      "execution_count": null,
      "outputs": []
    },
    {
      "cell_type": "markdown",
      "source": [
        "\n",
        "\n",
        "## Vantagens e Desvantagens\n",
        "\n",
        "### Vantagens\n",
        "\n",
        "Velocidade: As operações de inserção, busca e remoção geralmente têm complexidade $O$(1).\n",
        "- Facilidade de Implementação: Tabelas hash são relativamente fáceis de implementar e usar.\n",
        "\n",
        "### Desvantagens\n",
        "\n",
        "- Colisões: A resolução de colisões pode aumentar a complexidade e afetar o desempenho.\n",
        "- Uso de Memória: Pode haver desperdício de memória se a tabela for muito grande.\n",
        "- Não Ordenada: Os elementos não são armazenados de forma ordenada, o que pode ser uma limitação em alguns casos.\n",
        "\n",
        "### Exemplos de Uso\n",
        "- Tabelas de símbolos em compiladores\n",
        "- Implementação de dicionários em linguagens de programação\n",
        "- Armazenamento em cache para acesso rápido a dados.\n"
      ],
      "metadata": {
        "id": "O8mFPIGupKQV"
      }
    },
    {
      "cell_type": "markdown",
      "source": [
        "# Exercícios\n",
        "\n",
        "1. Adicione um método à classe HashTableChaining para contar quantos elementos estão presentes em cada lista de encadeamento.\n",
        "\n",
        "2. Altere o hash do algoritmo LinearProbingHashTable, para o metodo da mulplicação abaixo mencionado. Moste o resultado da tabela de hash após a inserção dos valores da lista (10,15,0,8,19,26,14,21).\n",
        "\n",
        "3. Implemente uma função para medir o tempo de execução dos algoritmos:\n",
        "\n",
        "  a) Sondagem Linear\n",
        "\n",
        "  b) Sondagem Quadrática\n",
        "\n",
        "  c) encadeamento Hashing\n",
        "\n",
        "  Faça a inserção de 100 elementos aleatórios sem repetições.\n",
        "\n"
      ],
      "metadata": {
        "id": "JgkNkCHe2eBQ"
      }
    },
    {
      "cell_type": "code",
      "source": [
        "def hash_multiplicação(key,size):\n",
        "    # Método de multiplicação\n",
        "    A = 0.3\n",
        "    # A = 0.6180339887  # Constante de multiplicação (cerca de (sqrt(5) - 1) / 2)\n",
        "    hash_value = hash(key)\n",
        "    return int(size * ((hash_value * A) % 1))\n",
        "\n",
        "hash_multiplicação(2,10)"
      ],
      "metadata": {
        "colab": {
          "base_uri": "https://localhost:8080/"
        },
        "id": "2XVQocMGxvPA",
        "outputId": "097521a5-fdb9-44d2-9b21-9007a2cf60c9"
      },
      "execution_count": null,
      "outputs": [
        {
          "output_type": "execute_result",
          "data": {
            "text/plain": [
              "6"
            ]
          },
          "metadata": {},
          "execution_count": 12
        }
      ]
    },
    {
      "cell_type": "code",
      "source": [],
      "metadata": {
        "id": "f9J-vsn_kJeJ"
      },
      "execution_count": null,
      "outputs": []
    },
    {
      "cell_type": "markdown",
      "source": [
        "# Funções Úteis"
      ],
      "metadata": {
        "id": "TG0fIA5HkW9G"
      }
    },
    {
      "cell_type": "code",
      "source": [
        "# Encontrar o valor primo\n",
        "import numpy as np\n",
        "\n",
        "def primos_ate_n(n):\n",
        "    if n < 2:\n",
        "        return np.array([])\n",
        "\n",
        "    primos = np.ones(n+1, dtype=bool)\n",
        "    primos[:2] = False\n",
        "\n",
        "    for i in range(2, int(n**0.5) + 1):\n",
        "        if primos[i]:\n",
        "            primos[i*i : n+1 : i] = False\n",
        "\n",
        "    return np.nonzero(primos)[0]\n",
        "\n",
        "def primo_acima(valor, limite=10000):\n",
        "    primos = primos_ate_n(limite)\n",
        "\n",
        "    # Busca o menor primo >= valor\n",
        "    idx = np.searchsorted(primos, valor, side='left')\n",
        "\n",
        "    if idx < len(primos):\n",
        "        return primos[idx]\n",
        "    else:\n",
        "        return None  # Não há primo no intervalo"
      ],
      "metadata": {
        "id": "dKS3gb4GkGDH"
      },
      "execution_count": null,
      "outputs": []
    },
    {
      "cell_type": "code",
      "source": [
        "# Exemplo prático para criar uma tabela hash de contatos\n",
        "class ContactHashTable:\n",
        "    def __init__(self, size=10):\n",
        "        self.size = size\n",
        "        self.table = [[] for _ in range(size)]\n",
        "\n",
        "    def _hash(self, key):\n",
        "        return hash(key) % self.size\n",
        "\n",
        "    def insert(self, name, phone, email):\n",
        "        hash_index = self._hash(name)\n",
        "        for item in self.table[hash_index]:\n",
        "            if item[0] == name:\n",
        "                print(item[0])\n",
        "                item[1] = phone\n",
        "                item[2] = email\n",
        "                return\n",
        "        self.table[hash_index].append([name, phone, email])\n",
        "\n",
        "    def get(self, name):\n",
        "        hash_index = self._hash(name)\n",
        "        for item in self.table[hash_index]:\n",
        "            if item[0] == name:\n",
        "                return {\"name\": item[0], \"phone\": item[1], \"email\": item[2]}\n",
        "        return None\n",
        "\n",
        "    def remove(self, name):\n",
        "        hash_index = self._hash(name)\n",
        "        for index, item in enumerate(self.table[hash_index]):\n",
        "            if item[0] == name:\n",
        "                del self.table[hash_index][index]\n",
        "                return True\n",
        "        return False\n",
        "\n",
        "    def __str__(self):\n",
        "        return str(self.table)\n",
        "\n",
        "# Exemplo de uso\n",
        "contacts = ContactHashTable()\n",
        "\n",
        "# Inserir contatos\n",
        "contacts.insert(\"Alice\", \"123-456-7890\", \"alice@example.com\")\n",
        "contacts.insert(\"Bob\", \"987-654-3210\", \"bob@example.com\")\n",
        "contacts.insert(\"Charlie\", \"555-555-5555\", \"charlie@example.com\")\n",
        "contacts.insert(\"Charlie\", \"555-555-5556\", \"charlie@example.com.br\")\n",
        "\n",
        "# Obter contatos\n",
        "print(contacts.get(\"Alice\"))    # Output: {'name': 'Alice', 'phone': '123-456-7890', 'email': 'alice@example.com'}\n",
        "print(contacts.get(\"Bob\"))      # Output: {'name': 'Bob', 'phone': '987-654-3210', 'email': 'bob@example.com'}\n",
        "print(contacts.get(\"Charlie\"))  # Output: {'name': 'Charlie', 'phone': '555-555-5555', 'email': 'charlie@example.com'}\n",
        "\n",
        "# Remover um contato\n",
        "contacts.remove(\"Bob\")\n",
        "\n",
        "# Tentar obter o contato removido\n",
        "print(contacts.get(\"Bob\"))  # Output: None\n",
        "\n",
        "# Mostrar a tabela hash\n",
        "print(contacts)  # Output: Tabela hash com os contatos restantes\n"
      ],
      "metadata": {
        "colab": {
          "base_uri": "https://localhost:8080/"
        },
        "id": "Yr2C2obnHBln",
        "outputId": "0859e48d-1415-4471-a672-efe9702c0cc5"
      },
      "execution_count": null,
      "outputs": [
        {
          "output_type": "stream",
          "name": "stdout",
          "text": [
            "Charlie\n",
            "{'name': 'Alice', 'phone': '123-456-7890', 'email': 'alice@example.com'}\n",
            "{'name': 'Bob', 'phone': '987-654-3210', 'email': 'bob@example.com'}\n",
            "{'name': 'Charlie', 'phone': '555-555-5556', 'email': 'charlie@example.com.br'}\n",
            "None\n",
            "[[], [], [], [], [], [], [], [], [['Charlie', '555-555-5556', 'charlie@example.com.br']], [['Alice', '123-456-7890', 'alice@example.com']]]\n"
          ]
        }
      ]
    }
  ],
  "metadata": {
    "colab": {
      "provenance": []
    },
    "kernelspec": {
      "display_name": "Python 3",
      "name": "python3"
    },
    "language_info": {
      "name": "python"
    }
  },
  "nbformat": 4,
  "nbformat_minor": 0
}