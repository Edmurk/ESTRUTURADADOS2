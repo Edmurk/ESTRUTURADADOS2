{
 "cells": [
  {
   "cell_type": "code",
   "execution_count": null,
   "metadata": {
    "id": "Cft1UguJ9WKg"
   },
   "outputs": [],
   "source": [
    "class Node:\n",
    "\n",
    "\tdef __init__(self, label):\n",
    "\t\tself.label = label\n",
    "\t\tself.left = None\n",
    "\t\tself.right = None\n",
    "\n",
    "  # pega o valor do label\n",
    "\tdef getLabel(self):\n",
    "\t\treturn self.label\n",
    "\n",
    "  # define o valor do label\n",
    "\tdef setLabel(self, label):\n",
    "\t\tself.label = label\n",
    "\n",
    "  # pega o valor da esquerda\n",
    "\tdef getLeft(self):\n",
    "\t\treturn self.left\n",
    "\n",
    "  # define o valor da esquerda\n",
    "\tdef setLeft(self, left):\n",
    "\t\tself.left = left\n",
    "\n",
    "  # define o valor da direita\n",
    "\tdef getRight(self):\n",
    "\t\treturn self.right\n",
    "\n",
    "  # define o valor da direita\n",
    "\tdef setRight(self, right):\n",
    "\t\tself.right = right\n",
    "\n"
   ]
  },
  {
   "cell_type": "code",
   "execution_count": null,
   "metadata": {
    "id": "kgaB24p2_WVB"
   },
   "outputs": [],
   "source": [
    "class BinarySearchTree:\n",
    "\n",
    "  # iniciar a arvore vazia\n",
    "\tdef __init__(self):\n",
    "\t\tself.root = None\n",
    "\n",
    "\tdef empty(self):\n",
    "\t\tif self.root == None:\n",
    "\t\t\treturn True\n",
    "\t\treturn False\n",
    "\n",
    "  # inserir um nó na árvore\n",
    "\tdef insert(self, label):\n",
    "\n",
    "\t\t# cria um novo nó\n",
    "\t\tnode = Node(label)\n",
    "\n",
    "\t\t# verifica se a árvore está vazia\n",
    "\t\tif self.empty():\n",
    "\t\t\tself.root = node\n",
    "\t\telse:\n",
    "\n",
    "\t\t\t# árvore não vazia, insere recursivamente\n",
    "\t\t\tdad_node = None\n",
    "\t\t\tcurr_node = self.root\n",
    "\n",
    "\t\t\twhile True:\n",
    "\n",
    "\t\t\t\tif curr_node != None:\n",
    "\n",
    "\t\t\t\t\tdad_node = curr_node\n",
    "\n",
    "\t\t\t\t\t# verifica se vai para esquerda ou direita\n",
    "\t\t\t\t\tif node.getLabel() < curr_node.getLabel():\n",
    "\t\t\t\t\t\t# vai para esquerda\n",
    "\t\t\t\t\t\tcurr_node = curr_node.getLeft()\n",
    "\t\t\t\t\telse:\n",
    "\t\t\t\t\t\t# vai para direita\n",
    "\t\t\t\t\t\tcurr_node = curr_node.getRight()\n",
    "\t\t\t\telse:\n",
    "\n",
    "\t\t\t\t\t# se curr_node é None, então encontrou onde inserir\n",
    "\n",
    "\t\t\t\t\tif node.getLabel() < dad_node.getLabel():\n",
    "\t\t\t\t\t\tdad_node.setLeft(node)\n",
    "\t\t\t\t\telse:\n",
    "\t\t\t\t\t\tdad_node.setRight(node)\n",
    "\n",
    "\t\t\t\t\tbreak # sai do loop\n",
    "\n",
    "\t# mostra em pré-ordem (raiz-esq-dir)\n",
    "\tdef show(self, curr_node):\n",
    "\n",
    "\t\tif curr_node != None:\n",
    "\t\t\tprint('%d' % curr_node.getLabel(), end=' ')\n",
    "\t\t\tself.show(curr_node.getLeft())\n",
    "\t\t\tself.show(curr_node.getRight())\n",
    "\n",
    "\tdef getRoot(self):\n",
    "\t\treturn self.root\n",
    "\n",
    "\tdef remove(self, label):\n",
    "\t\t'''\n",
    "\t\t\t3 casos\n",
    "\n",
    "\t\t\tCaso 1\n",
    "\t\t\to nó a ser removido não tem filhos\n",
    "\t\t\tesse caso é simples, basta setar a ligação\n",
    "\t\t\tdo pai para None\n",
    "\n",
    "\t\t\tCaso 2\n",
    "\t\t\to nó a ser removido tem somente 1 filho\n",
    "\t\t\tbasta colocar o seu filho no lugar dele\n",
    "\n",
    "\t\t\tCaso 3\n",
    "\t\t\to nó a ser removido possui dois filhos\n",
    "\t\t\tbasta pegar o menor elemento da subárvore à direita\n",
    "\t\t'''\n",
    "\n",
    "\t\tdad_node = None # parent\n",
    "\t\tcurr_node = self.root\n",
    "\n",
    "\t\twhile curr_node != None:\n",
    "\n",
    "\t\t\t# verifica se encontrou o nó a ser removido\n",
    "\t\t\tif label == curr_node.getLabel():\n",
    "\n",
    "\t\t\t\t# caso 1: o nó a ser removido não possui filhos (nó folha)\n",
    "\t\t\t\tif curr_node.getLeft() == None and curr_node.getRight() == None:\n",
    "\n",
    "\t\t\t\t\t# verifica se é a raiz\n",
    "\t\t\t\t\tif dad_node == None:\n",
    "\t\t\t\t\t\tself.root = None\n",
    "\t\t\t\t\telse:\n",
    "\t\t\t\t\t\t# verifica se é filho à esquerda ou à direita\n",
    "\t\t\t\t\t\tif dad_node.getLeft() == curr_node:\n",
    "\t\t\t\t\t\t\tdad_node.setLeft(None)\n",
    "\t\t\t\t\t\telif dad_node.getRight() == curr_node:\n",
    "\t\t\t\t\t\t\tdad_node.setRight(None)\n",
    "\n",
    "\t\t\t\t# caso 2: o nó a ser removido possui somente um filho\n",
    "\t\t\t\telif (curr_node.getLeft() == None and curr_node.getRight() != None) or \\\n",
    "\t\t\t\t\t(curr_node.getLeft() != None and curr_node.getRight() == None):\n",
    "\n",
    "\t\t\t\t\t# verifica se o nó a ser removido é a raiz\n",
    "\t\t\t\t\tif dad_node == None:\n",
    "\t\t\t\t\t\t# verifica se o filho de curr_node é filho à esquerda\n",
    "\t\t\t\t\t\tif curr_node.getLeft() != None:\n",
    "\t\t\t\t\t\t\tself.root = curr_node.getLeft()\n",
    "\t\t\t\t\t\telse: # senão o filho de curr_node é filho à direita\n",
    "\t\t\t\t\t\t\tself.root = curr_node.getRight()\n",
    "\t\t\t\t\telse:\n",
    "\t\t\t\t\t\t# se não for a raiz...\n",
    "\t\t\t\t\t\tpass\n",
    "\n"
   ]
  },
  {
   "cell_type": "code",
   "execution_count": null,
   "metadata": {
    "colab": {
     "base_uri": "https://localhost:8080/"
    },
    "executionInfo": {
     "elapsed": 286,
     "status": "ok",
     "timestamp": 1707661258620,
     "user": {
      "displayName": "Vilson Soares de Siqueira",
      "userId": "04552183210996004483"
     },
     "user_tz": 180
    },
    "id": "79kQMIR1_aqC",
    "outputId": "6c452222-9311-46bf-8122-78ba06302bfb"
   },
   "outputs": [
    {
     "name": "stdout",
     "output_type": "stream",
     "text": [
      "8 3 1 6 4 7 10 14 13 "
     ]
    }
   ],
   "source": [
    "t = BinarySearchTree()\n",
    "t.insert(8)\n",
    "t.insert(3)\n",
    "t.insert(1)\n",
    "t.insert(6)\n",
    "t.insert(4)\n",
    "t.insert(7)\n",
    "t.insert(10)\n",
    "t.insert(14)\n",
    "t.insert(13)\n",
    "\n",
    "t.show(t.getRoot())"
   ]
  },
  {
   "cell_type": "code",
   "execution_count": null,
   "metadata": {
    "colab": {
     "base_uri": "https://localhost:8080/"
    },
    "executionInfo": {
     "elapsed": 548,
     "status": "ok",
     "timestamp": 1706885276046,
     "user": {
      "displayName": "Vilson Soares de Siqueira",
      "userId": "04552183210996004483"
     },
     "user_tz": 180
    },
    "id": "u5XSQq8SSgtF",
    "outputId": "dab48c7b-1a88-4cfc-9ed4-c0dc7b3f3880"
   },
   "outputs": [
    {
     "name": "stdout",
     "output_type": "stream",
     "text": [
      "4 3 1 7 6 10 8 14 13 "
     ]
    }
   ],
   "source": [
    "t = BinarySearchTree()\n",
    "t.insert(4)\n",
    "t.insert(7)\n",
    "t.insert(10)\n",
    "t.insert(14)\n",
    "t.insert(13)\n",
    "t.insert(8)\n",
    "t.insert(3)\n",
    "t.insert(1)\n",
    "t.insert(6)\n",
    "\n",
    "t.show(t.getRoot())"
   ]
  },
  {
   "cell_type": "code",
   "execution_count": 3,
   "metadata": {
    "executionInfo": {
     "elapsed": 277,
     "status": "ok",
     "timestamp": 1708712475259,
     "user": {
      "displayName": "Vilson Soares de Siqueira",
      "userId": "04552183210996004483"
     },
     "user_tz": 180
    },
    "id": "TDwcmwmGUm3E"
   },
   "outputs": [],
   "source": [
    "# Definição do nós da árvore\n",
    "class Node:\n",
    "\n",
    "  # Nós iniciais\n",
    "\tdef __init__(self, label):\n",
    "\t\tself.label = label\n",
    "\t\tself.left = None\n",
    "\t\tself.right = None\n",
    "\n",
    "  # pegar o valor do nó\n",
    "\tdef getLabel(self):\n",
    "\t\treturn self.label\n",
    "\n",
    "  # definir o valor do nó\n",
    "\tdef setLabel(self, label):\n",
    "\t\tself.label = label\n",
    "\n",
    "  # pegar o valor do nó esquerdo\n",
    "\tdef getLeft(self):\n",
    "\t\treturn self.left\n",
    "\n",
    "# definir o valor do nó esquerdo\n",
    "\tdef setLeft(self, left):\n",
    "\t\tself.left = left\n",
    "\n",
    "  # pegar o valor do nó direito\n",
    "\tdef getRight(self):\n",
    "\t\treturn self.right\n",
    "\n",
    "  # definir o valor do nó direito\n",
    "\tdef setRight(self, right):\n",
    "\t\tself.right = right"
   ]
  },
  {
   "cell_type": "code",
   "execution_count": 1,
   "metadata": {
    "executionInfo": {
     "elapsed": 28,
     "status": "ok",
     "timestamp": 1708712438013,
     "user": {
      "displayName": "Vilson Soares de Siqueira",
      "userId": "04552183210996004483"
     },
     "user_tz": 180
    },
    "id": "qb37siSVEn37"
   },
   "outputs": [],
   "source": [
    "# Árvore binária de busca\n",
    "\n",
    "class BinarySearchTree:\n",
    "\n",
    "  # definição do nó raiz vázio\n",
    "\tdef __init__(self):\n",
    "\t\tself.root = None\n",
    "\n",
    "\tdef insert(self, label):\n",
    "\n",
    "\t\t# cria um novo nó\n",
    "\t\tnode = Node(label)\n",
    "\n",
    "\t\t# verifica se a árvore está vazia\n",
    "\t\tif self.empty():\n",
    "\t\t\tself.root = node\n",
    "\t\telse:\n",
    "\n",
    "\t\t\t# árvore não vazia, insere recursivamente\n",
    "\n",
    "\t\t\tdad_node = None\n",
    "\t\t\tcurr_node = self.root\n",
    "\n",
    "\t\t\twhile True:\n",
    "\n",
    "\t\t\t\tif curr_node != None:\n",
    "\n",
    "\t\t\t\t\tdad_node = curr_node\n",
    "\n",
    "\t\t\t\t\t# verifica se vai para esquerda ou direita\n",
    "\t\t\t\t\tif node.getLabel() < curr_node.getLabel():\n",
    "\t\t\t\t\t\t# vai para esquerda\n",
    "\t\t\t\t\t\tcurr_node = curr_node.getLeft()\n",
    "\t\t\t\t\telse:\n",
    "\t\t\t\t\t\t# vai para direita\n",
    "\t\t\t\t\t\tcurr_node = curr_node.getRight()\n",
    "\t\t\t\telse:\n",
    "\n",
    "\t\t\t\t\t# se curr_node é None, então encontrou onde inserir\n",
    "\n",
    "\t\t\t\t\tif node.getLabel() < dad_node.getLabel():\n",
    "\t\t\t\t\t\tdad_node.setLeft(node)\n",
    "\t\t\t\t\telse:\n",
    "\t\t\t\t\t\tdad_node.setRight(node)\n",
    "\n",
    "\t\t\t\t\tbreak # sai do loop\n",
    "\n",
    "\tdef empty(self):\n",
    "\t\tif self.root == None:\n",
    "\t\t\treturn True\n",
    "\t\treturn False\n",
    "\n",
    "\t# mostra em pré-ordem (raiz-esq-dir)\n",
    "\tdef show(self, curr_node):\n",
    "\n",
    "\t\tif curr_node != None:\n",
    "\t\t\tprint('%d' % curr_node.getLabel(), end=' ')\n",
    "\t\t\tself.show(curr_node.getLeft())\n",
    "\t\t\tself.show(curr_node.getRight())\n",
    "\n",
    "\tdef getRoot(self):\n",
    "\t\treturn self.root\n",
    "\n",
    "\tdef remove(self, label):\n",
    "\t\t'''\n",
    "\t\t\t3 casos\n",
    "\n",
    "\t\t\tCaso 1\n",
    "\t\t\to nó a ser removido não tem filhos\n",
    "\t\t\tesse caso é simples, basta setar a ligação\n",
    "\t\t\tdo pai para None\n",
    "\n",
    "\t\t\tCaso 2\n",
    "\t\t\to nó a ser removido tem somente 1 filho\n",
    "\t\t\tbasta colocar o seu filho no lugar dele\n",
    "\n",
    "\t\t\tCaso 3\n",
    "\t\t\to nó a ser removido possui dois filhos\n",
    "\t\t\tbasta pegar o menor elemento da subárvore à direita\n",
    "\t\t'''\n",
    "\n",
    "\t\tdad_node = None # parent\n",
    "\t\tcurr_node = self.root\n",
    "\n",
    "\t\twhile curr_node != None:\n",
    "\n",
    "\t\t\t# verifica se encontrou o nó a ser removido\n",
    "\t\t\tif label == curr_node.getLabel():\n",
    "\n",
    "\t\t\t\t# caso 1: o nó a ser removido não possui filhos (nó folha)\n",
    "\t\t\t\tif curr_node.getLeft() == None and curr_node.getRight() == None:\n",
    "\n",
    "\t\t\t\t\t# verifica se é a raiz\n",
    "\t\t\t\t\tif dad_node == None:\n",
    "\t\t\t\t\t\tself.root = None\n",
    "\t\t\t\t\telse:\n",
    "\t\t\t\t\t\t# verifica se é filho à esquerda ou à direita\n",
    "\t\t\t\t\t\tif dad_node.getLeft() == curr_node:\n",
    "\t\t\t\t\t\t\tdad_node.setLeft(None)\n",
    "\t\t\t\t\t\telif dad_node.getRight() == curr_node:\n",
    "\t\t\t\t\t\t\tdad_node.setRight(None)\n",
    "\n",
    "\t\t\t\t# caso 2: o nó a ser removido possui somente um filho\n",
    "\t\t\t\telif (curr_node.getLeft() == None and curr_node.getRight() != None) or \\\n",
    "\t\t\t\t\t(curr_node.getLeft() != None and curr_node.getRight() == None):\n",
    "\n",
    "\t\t\t\t\t# verifica se o nó a ser removido é a raiz\n",
    "\t\t\t\t\tif dad_node == None:\n",
    "\t\t\t\t\t\t# verifica se o filho de curr_node é filho à esquerda\n",
    "\t\t\t\t\t\tif curr_node.getLeft() != None:\n",
    "\t\t\t\t\t\t\tself.root = curr_node.getLeft()\n",
    "\t\t\t\t\t\telse: # senão o filho de curr_node é filho à direita\n",
    "\t\t\t\t\t\t\tself.root = curr_node.getRight()\n",
    "\t\t\t\t\telse:\n",
    "\t\t\t\t\t\t# verifica se o filho de curr_node é filho à esquerda\n",
    "\t\t\t\t\t\tif curr_node.getLeft() != None:\n",
    "\t\t\t\t\t\t\t# verifica se curr_node é filho à esquerda\n",
    "\t\t\t\t\t\t\tif dad_node.getLeft() and dad_node.getLeft().getLabel() == curr_node.getLabel():\n",
    "\t\t\t\t\t\t\t\tdad_node.setLeft(curr_node.getLeft())\n",
    "\t\t\t\t\t\t\telse: # senão curr_node é filho à direita\n",
    "\t\t\t\t\t\t\t\tdad_node.setRight(curr_node.getLeft())\n",
    "\t\t\t\t\t\telse: # senão o filho de curr_node é filho à direita\n",
    "\t\t\t\t\t\t\t# verifica se curr_node é filho à esquerda\n",
    "\t\t\t\t\t\t\tif dad_node.getLeft() and dad_node.getLeft().getLabel() == curr_node.getLabel():\n",
    "\t\t\t\t\t\t\t\tdad_node.setLeft(curr_node.getRight())\n",
    "\t\t\t\t\t\t\telse: # senão curr_node é filho à direita\n",
    "\t\t\t\t\t\t\t\tdad_node.setRight(curr_node.getRight())\n",
    "\n",
    "\t\t\t\t# caso 3: o nó a ser removido possui dois filhos\n",
    "\t\t\t\t# pega-se o menor elemento da subárvore à direita\n",
    "\t\t\t\telif curr_node.getLeft() != None and curr_node.getRight() != None:\n",
    "\n",
    "\t\t\t\t\tdad_smaller_node = curr_node\n",
    "\t\t\t\t\tsmaller_node = curr_node.getRight()\n",
    "\t\t\t\t\tnext_smaller = curr_node.getRight().getLeft()\n",
    "\n",
    "\t\t\t\t\twhile next_smaller != None:\n",
    "\t\t\t\t\t\tdad_smaller_node = smaller_node\n",
    "\t\t\t\t\t\tsmaller_node = next_smaller\n",
    "\t\t\t\t\t\tnext_smaller = smaller_node.getLeft()\n",
    "\n",
    "\t\t\t\t\t# verifica se o nó a ser removido é a raiz\n",
    "\t\t\t\t\tif dad_node == None:\n",
    "\n",
    "\t\t\t\t\t\t# Caso especial: o nó que vai ser a nova raiz é filho da raiz\n",
    "\t\t\t\t\t\tif self.root.getRight().getLabel() == smaller_node.getLabel():\n",
    "\t\t\t\t\t\t\tsmaller_node.setLeft(self.root.getLeft())\n",
    "\t\t\t\t\t\telse:\n",
    "\n",
    "\t\t\t\t\t\t\t'''\n",
    "\t\t\t\t\t\t\t\tverifica se o smaller_node é filho à esquerda ou à direita\n",
    "\t\t\t\t\t\t\t\tpara setar para None o smaller_node\n",
    "\t\t\t\t\t\t\t'''\n",
    "\t\t\t\t\t\t\tif dad_smaller_node.getLeft() and \\\n",
    "\t\t\t\t\t\t\t\tdad_smaller_node.getLeft().getLabel() == smaller_node.getLabel():\n",
    "\t\t\t\t\t\t\t\tdad_smaller_node.setLeft(None)\n",
    "\t\t\t\t\t\t\telse:\n",
    "\t\t\t\t\t\t\t\tdad_smaller_node.setRight(None)\n",
    "\n",
    "\t\t\t\t\t\t\t# seta os filhos à direita e esquerda de smaller_node\n",
    "\t\t\t\t\t\t\tsmaller_node.setLeft(curr_node.getLeft())\n",
    "\t\t\t\t\t\t\tsmaller_node.setRight(curr_node.getRight())\n",
    "\n",
    "\t\t\t\t\t\t# faz com que o smaller_node seja a raiz\n",
    "\t\t\t\t\t\tself.root = smaller_node\n",
    "\n",
    "\t\t\t\t\telse:\n",
    "\n",
    "\t\t\t\t\t\t'''\n",
    "\t\t\t\t\t\t\tverifica se curr_node é filho à esquerda ou à direita\n",
    "\t\t\t\t\t\t\tpara setar o smaller_node como filho do pai do curr_node (dad_node)\n",
    "\t\t\t\t\t\t'''\n",
    "\t\t\t\t\t\tif dad_node.getLeft() and dad_node.getLeft().getLabel() == curr_node.getLabel():\n",
    "\t\t\t\t\t\t\tdad_node.setLeft(smaller_node)\n",
    "\t\t\t\t\t\telse:\n",
    "\t\t\t\t\t\t\tdad_node.setRight(smaller_node)\n",
    "\n",
    "\t\t\t\t\t\t'''\n",
    "\t\t\t\t\t\t\tverifica se o smaller_node é filho à esquerda ou à direita\n",
    "\t\t\t\t\t\t\tpara setar para None o smaller_node\n",
    "\t\t\t\t\t\t'''\n",
    "\t\t\t\t\t\tif dad_smaller_node.getLeft() and \\\n",
    "\t\t\t\t\t\t\tdad_smaller_node.getLeft().getLabel() == smaller_node.getLabel():\n",
    "\t\t\t\t\t\t\tdad_smaller_node.setLeft(None)\n",
    "\t\t\t\t\t\telse:\n",
    "\t\t\t\t\t\t\tdad_smaller_node.setRight(None)\n",
    "\n",
    "\t\t\t\t\t\t# seta os filhos à direita e esquerda de smaller_node\n",
    "\t\t\t\t\t\tsmaller_node.setLeft(curr_node.getLeft())\n",
    "\t\t\t\t\t\tsmaller_node.setRight(curr_node.getRight())\n",
    "\n",
    "\t\t\t\tbreak # sai do loop\n",
    "\n",
    "\t\t\tdad_node = curr_node\n",
    "\n",
    "\t\t\t# verifica se vai para esquerda ou direita\n",
    "\t\t\tif label < curr_node.getLabel():\n",
    "\t\t\t\t# vai para esquerda\n",
    "\t\t\t\tcurr_node = curr_node.getLeft()\n",
    "\t\t\telse:\n",
    "\t\t\t\t# vai para direita\n",
    "\t\t\t\tcurr_node = curr_node.getRight()\n",
    "\n",
    "\n"
   ]
  },
  {
   "cell_type": "code",
   "execution_count": 4,
   "metadata": {
    "colab": {
     "base_uri": "https://localhost:8080/"
    },
    "executionInfo": {
     "elapsed": 313,
     "status": "ok",
     "timestamp": 1708712481485,
     "user": {
      "displayName": "Vilson Soares de Siqueira",
      "userId": "04552183210996004483"
     },
     "user_tz": 180
    },
    "id": "fD06lkfPXiGB",
    "outputId": "292767fb-8b38-4d2f-f3a6-cf6172c3ead5"
   },
   "outputs": [
    {
     "name": "stdout",
     "output_type": "stream",
     "text": [
      "3 1 2 8 14 "
     ]
    }
   ],
   "source": [
    "a = BinarySearchTree()\n",
    "a.insert(3)\n",
    "a.insert(8)\n",
    "a.insert(14)\n",
    "a.insert(1)\n",
    "a.insert(2)\n",
    "\n",
    "# a.insert(6)\n",
    "# a.insert(4)\n",
    "# a.insert(7)\n",
    "# a.insert(10)\n",
    "# a.insert(14)\n",
    "# a.insert(13)\n",
    "# a.insert(9)\n",
    "\n",
    "\n",
    "a.show(a.getRoot())"
   ]
  },
  {
   "cell_type": "code",
   "execution_count": 5,
   "metadata": {
    "colab": {
     "base_uri": "https://localhost:8080/"
    },
    "executionInfo": {
     "elapsed": 271,
     "status": "ok",
     "timestamp": 1708712485892,
     "user": {
      "displayName": "Vilson Soares de Siqueira",
      "userId": "04552183210996004483"
     },
     "user_tz": 180
    },
    "id": "mO8lRDCPEsHc",
    "outputId": "48048f18-457e-4b4b-e912-416790a38338"
   },
   "outputs": [
    {
     "name": "stdout",
     "output_type": "stream",
     "text": [
      "8 3 1 6 4 7 10 9 14 13 "
     ]
    }
   ],
   "source": [
    "t = BinarySearchTree()\n",
    "t.insert(8)\n",
    "t.insert(3)\n",
    "t.insert(1)\n",
    "t.insert(6)\n",
    "t.insert(4)\n",
    "t.insert(7)\n",
    "t.insert(10)\n",
    "t.insert(14)\n",
    "t.insert(13)\n",
    "t.insert(9)\n",
    "\n",
    "\n",
    "t.show(t.getRoot())"
   ]
  },
  {
   "cell_type": "code",
   "execution_count": 6,
   "metadata": {
    "colab": {
     "base_uri": "https://localhost:8080/"
    },
    "executionInfo": {
     "elapsed": 298,
     "status": "ok",
     "timestamp": 1708712493591,
     "user": {
      "displayName": "Vilson Soares de Siqueira",
      "userId": "04552183210996004483"
     },
     "user_tz": 180
    },
    "id": "hEVNkufBOULd",
    "outputId": "217a8df3-381c-4614-b6d2-9c1964e88df3"
   },
   "outputs": [
    {
     "name": "stdout",
     "output_type": "stream",
     "text": [
      "9 3 1 6 4 7 10 14 13 "
     ]
    }
   ],
   "source": [
    "\n",
    "\n",
    "t.remove(8)\n",
    "\n",
    "t.show(t.getRoot())"
   ]
  },
  {
   "cell_type": "code",
   "execution_count": 7,
   "metadata": {
    "colab": {
     "base_uri": "https://localhost:8080/"
    },
    "executionInfo": {
     "elapsed": 344,
     "status": "ok",
     "timestamp": 1708712496180,
     "user": {
      "displayName": "Vilson Soares de Siqueira",
      "userId": "04552183210996004483"
     },
     "user_tz": 180
    },
    "id": "yu-twsI6Olbu",
    "outputId": "e4af1e44-69fa-4770-a121-993820877187"
   },
   "outputs": [
    {
     "name": "stdout",
     "output_type": "stream",
     "text": [
      "9 3 1 6 4 7 10 14 13 11 "
     ]
    }
   ],
   "source": [
    "t.insert(11)\n",
    "t.show(t.getRoot())"
   ]
  }
 ],
 "metadata": {
  "colab": {
   "authorship_tag": "ABX9TyNr4x6fP9BTlMFzoZJxWStn",
   "mount_file_id": "1sb2yMexnQlzAfafZ640HJ12MYpjDthXs",
   "provenance": [
    {
     "file_id": "1aN2JO8awqI12JCnS4KH5dGBjcCjXsjMx",
     "timestamp": 1706879716997
    }
   ]
  },
  "kernelspec": {
   "display_name": "Python 3 (ipykernel)",
   "language": "python",
   "name": "python3"
  },
  "language_info": {
   "codemirror_mode": {
    "name": "ipython",
    "version": 3
   },
   "file_extension": ".py",
   "mimetype": "text/x-python",
   "name": "python",
   "nbconvert_exporter": "python",
   "pygments_lexer": "ipython3",
   "version": "3.11.11"
  }
 },
 "nbformat": 4,
 "nbformat_minor": 4
}
