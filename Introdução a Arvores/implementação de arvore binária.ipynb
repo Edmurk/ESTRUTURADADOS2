{
 "cells": [
  {
   "cell_type": "markdown",
   "metadata": {
    "id": "D1kLs9L3LOjo"
   },
   "source": [
    "# Árvore Binária de Busca (BST)\n",
    "\n",
    "## Aplicações práticas:\n",
    "- Sistemas de busca e indexação\n",
    "\n",
    "- Organização de dados em memória\n",
    "\n",
    "- Estruturas auxiliares em compiladores\n",
    "\n",
    "- Implementações de dicionários e conjuntos (sets)\n",
    "\n",
    "## Definição: Árvore Binária de Busca (BST)\n",
    "\n",
    "Uma Árvore Binária de Busca (BST) é uma estrutura de dados hierárquica onde cada nó possui no máximo dois filhos e os valores são organizados de maneira que facilite operações rápidas de busca, inserção e remoção.\n",
    "\n",
    "### Regras fundamentais da BST:\n",
    "\n",
    "- Para qualquer nó N da árvore:\n",
    "\n",
    "- Todos os valores da subárvore à esquerda de N são menores que N.\n",
    "\n",
    "- Todos os valores da subárvore à direita de N são maiores que N.\n",
    "\n",
    "- Cada subárvore também é uma BST.\n",
    "\n",
    "### Características principais:\n",
    "\n",
    "\n",
    "| Característica        | Descrição                                                                 |\n",
    "|-----------------------|--------------------------------------------------------------------------|\n",
    "| Tipo de estrutura     | Hierárquica, não linear                                                  |\n",
    "| Cada nó tem até       | 2 filhos (esquerdo e direito)                                            |\n",
    "| Busca eficiente       | O tempo médio de busca é O(log n), se a árvore for balanceada            |\n",
    "| Operações principais  | Inserção, busca, remoção, percursos (in-order, pre-order, post-order)    |\n",
    "| Ordem natural         | Percurso em ordem (in-order) produz os elementos em ordem crescente      |\n",
    "\n",
    "\n",
    "# Inserção em uma Árvore Binária de Busca (BST)\n",
    "\n",
    "A inserção é a operação de adicionar um novo valor (nó) à árvore, mantendo a estrutura correta da BST:\n",
    "\n",
    "- Regra principal:\n",
    "  - Para cada nó:\n",
    "\n",
    "    - Valores menores vão para a esquerda.\n",
    "\n",
    "    - Valores maiores vão para a direita.\n",
    "\n",
    "## Regras de Inserção\n",
    "1. Comece pela raiz\n",
    " - Se a árvore estiver vazia, o novo valor será a raiz da árvore.\n",
    "\n",
    "2. Compare o valor a ser inserido com o nó atual:\n",
    "\n",
    " - Se o valor for menor, vá para a subárvore esquerda.\n",
    "\n",
    " - Se o valor for maior, vá para a subárvore direita.\n",
    "\n",
    " - Se o valor já existir, geralmente não é inserido (dependendo da política usada).\n",
    "\n",
    "3. Repita o processo recursivamente\n",
    " - Continue comparando até encontrar um ponteiro nulo (None) — ou seja, o local onde o novo valor deve ser inserido.\n",
    "\n",
    "4. Insira o novo valor\n",
    "Quando encontrar um espaço vazio (None), crie um novo nó e conecte-o ao pai.\n",
    "\n",
    "## Observações importantes\n",
    "A BST não permite valores repetidos por padrão (mas isso pode ser alterado, se necessário). A forma como os valores são inseridos afeta a forma da árvore. Inserções em ordem crescente, por exemplo, geram uma árvore \"torta\" como uma lista ligada.\n",
    "\n",
    "\n",
    "# Remoção de um nó na Árvore Binária de Busca\n",
    "\n",
    "A remoção de um nó em uma BST depende da estrutura local da árvore onde esse nó está inserido. Existem três cenários principais para essa operação, e cada um requer uma abordagem específica para manter a propriedade da BST:\n",
    "\n",
    "Para toda subárvore, os valores à esquerda são menores que o nó atual, e os valores à direita são maiores.\n",
    "\n",
    "## Caso 1 – O nó a ser removido não tem filhos (é uma folha)\n",
    "### Exemplo:\n",
    "\n",
    "\n",
    "\n",
    "- Se quisermos remover o nó 13, percebemos que:\n",
    "\n",
    "- Ele não possui filhos.\n",
    "\n",
    "- Basta remover a referência para ele no nó pai (14 → None).\n",
    "\n",
    "### Solução:\n",
    " - Identificar o pai do nó.\n",
    "\n",
    " - Substituir o ponteiro do pai (esquerda ou direita) por None.\n",
    "\n",
    "### Lógica:\n",
    "\n",
    "Esse é o caso mais simples. Nenhuma reorganização estrutural é necessária.\n",
    "\n",
    "## Caso 2 – O nó a ser removido tem somente 1 filho\n",
    "\n",
    "- Se quisermos remover o nó 14, ele tem apenas um filho (13).\n",
    "\n",
    "### Solução:\n",
    "- Identificar o pai do nó.\n",
    "\n",
    "- Substituir o ponteiro do pai de 14 para apontar diretamente para o filho de 14, ou seja, o nó 13.\n",
    "\n",
    "### Lógica:\n",
    "A estrutura da árvore se mantém válida se simplesmente \"pularmos\" o nó a ser removido e conectarmos seu pai ao único filho.\n",
    "\n",
    "## Caso 3 – O nó a ser removido tem dois filhos\n",
    "\n",
    "- Se quisermos remover o nó 6, ele possui dois filhos: 4 e 7.\n",
    "\n",
    "## Solução:\n",
    "- Encontrar o menor nó da subárvore direita de 6 (neste caso, o 7 não tem filhos, mas em casos mais complexos poderia ter).\n",
    "\n",
    "- Copiar o valor desse menor nó para o lugar de 6.\n",
    "\n",
    "Agora temos um novo problema menor: remover o nó 7, que tem no máximo um filho (caso 1 ou 2).\n",
    "\n",
    "## Lógica:\n",
    "A razão para pegar o menor valor da subárvore direita (também chamado de sucessor in-order) é garantir que a propriedade da BST continue válida.\n",
    "\n",
    "Poderíamos também pegar o maior da subárvore esquerda (antecessor in-order) – também funciona.\n",
    "\n",
    "## Por que usar o menor da subárvore direita?\n",
    "Porque todos os elementos à direita são maiores que o nó atual. E o menor dentro dessa subárvore será o menor entre os maiores — ou seja, o próximo elemento na ordem crescente. Substituindo com ele, a BST se mantém organizada.\n",
    "\n",
    "## Resumo dos três casos:\n",
    "\n",
    "|Caso|\tSituação|\tO que fazer|\n",
    "|-----|------------|--------------|\n",
    "|1|\tSem filhos (folha)|\tRemover o nó diretamente (setar pai para None)|\n",
    "|2|\tUm único filho|\tConectar o pai diretamente ao filho|\n",
    "|3|\tDois filhos|\tSubstituir pelo menor da subárvore direita, e remover esse nó substituto|\n",
    "\n",
    "\n",
    "### Exemplo:\n",
    "\n",
    "- Inserindo os valores [8, 3, 10, 6, 14, 1, 7, 13, 4]:\n",
    "\n",
    "<img src=\"https://codefinity-content-media.s3.eu-west-1.amazonaws.com/212d3d3e-af15-4df9-bb13-5cbbb8114954/BST.png\" width=\"300\"/>\n",
    "\n",
    "\n",
    "- 3 está à esquerda de 8 (menor)\n",
    "\n",
    "- 10 está à direita de 8 (maior)\n",
    "\n",
    "- 1 está à esquerda de 3 (menor), e assim por diante...\n",
    "\n",
    "\n",
    "### Complexidade Computacional\n",
    "\n",
    "$$O(log(n))$$\n",
    "\n",
    "$O(log(n))$ é uma notação Big-O que representa o tempo de execução de um algoritmo em função do número de elementos ($n$), onde o tempo cresce logaritmicamente em vez de linearmente.\n",
    "\n",
    "- Logaritmo de base 2 (comum em estruturas binárias)\n",
    "\n",
    "  Quando falamos de $(log(n))$ em árvores binárias, geralmente estamos nos referindo a logaritmo na base 2:\n",
    "\n",
    "\n",
    "- $log_2(n)$ → Quantas vezes você pode dividir n por 2 até chegar a 1?\n",
    "\n",
    "- Exemplos:\n",
    "\n",
    "  $log_2(8)$ = 3 → 8 → 4 → 2 → 1 (dividiu por 2 três vezes)\n",
    "\n",
    "  $log_2(16)$ = 4\n",
    "\n",
    "  $log_2(1024)$ = 10\n",
    "\n",
    "\n",
    "- Onde O(log n) aparece?\n",
    "\n",
    "  - Em uma Árvore Binária de Busca (BST) balanceada:\n",
    "  - Cada vez que você busca um valor:\n",
    "  - Você descarta metade da árvore.\n",
    "  - Assim como a busca binária em uma lista ordenada.\n",
    "  - Com 1 milhão de elementos, você só precisa fazer cerca de 20 comparações no pior caso!\n",
    "\n",
    "### Comparação com outros tempos de execução:\n",
    "|Notação|\tCrescimento\tExemplo simples|\n",
    "|-------------|-----------------------------------------------------------|\n",
    "|O(1)|\tConstante\tAcesso direto a um elemento|\n",
    "|O(log n)\t|Logarítmico\tBusca em árvore balanceada|\n",
    "|O(n)\t|Linear\tPercorrer uma lista inteira|\n",
    "|O(n log n)\t|Quase linear\tAlgoritmos de ordenação eficientes (MergeSort)|\n",
    "|O(n²)\t|Quadrático\tComparação de todos com todos|\n",
    "\n",
    "\n",
    "### Exemplo intuitivo\n",
    "\n",
    "- Imagine que você está procurando um nome em uma lista telefônica com 1024 nomes.\n",
    "\n",
    "- Em vez de olhar nome por nome (O(n)), você abre no meio e decide se vai olhar para a metade da esquerda ou da direita.\n",
    "\n",
    "- A cada passo, você corta pela metade.\n",
    "\n",
    "- Em no máximo 10 passos (log₂(1024)), você encontra o nome ou descobre que ele não está lá.\n",
    "\n",
    "Isso é o que O(log n) representa: eficiência com crescimento lento mesmo para dados grandes."
   ]
  },
  {
   "cell_type": "markdown",
   "metadata": {
    "id": "Vu5VJ28ZMfr7"
   },
   "source": []
  },
  {
   "cell_type": "markdown",
   "metadata": {
    "id": "barz6-L3LIcB"
   },
   "source": []
  },
  {
   "cell_type": "code",
   "execution_count": 17,
   "metadata": {
    "executionInfo": {
     "elapsed": 8,
     "status": "ok",
     "timestamp": 1742908104407,
     "user": {
      "displayName": "Vilson Soares de Siqueira",
      "userId": "04552183210996004483"
     },
     "user_tz": 180
    },
    "id": "EGhAxOPgFkuT"
   },
   "outputs": [],
   "source": [
    "# Importa a classe Digraph da biblioteca graphviz para criação de grafos direcionados\n",
    "from graphviz import Digraph\n",
    "\n",
    "# Importa a função Image do IPython para exibir imagens diretamente no Colab ou Jupyter\n",
    "from IPython.display import Image\n",
    "\n",
    "# Define a classe Node, que representa um nó da árvore binária\n",
    "class Node:\n",
    "    def __init__(self, key):\n",
    "        self.key = key      # Valor armazenado no nó\n",
    "        self.left = None    # Ponteiro para o filho à esquerda (menores que key)\n",
    "        self.right = None   # Ponteiro para o filho à direita (maiores que key)\n",
    "\n",
    "# Define a classe da Árvore Binária de Busca (Binary Search Tree)\n",
    "class BinarySearchTree:\n",
    "    def __init__(self):\n",
    "        self.root = None    # A árvore começa vazia (sem raiz)\n",
    "\n",
    "    # Método público para inserir uma nova chave na árvore\n",
    "    def insert(self, key):\n",
    "        # Inicia o processo de inserção recursiva, a partir da raiz\n",
    "        self.root = self._insert_recursive(self.root, key)\n",
    "\n",
    "    # Método auxiliar recursivo para inserir a chave na posição correta\n",
    "    def _insert_recursive(self, node, key):\n",
    "        if node is None:\n",
    "            # Caso base: se o local está vazio, insere o novo nó aqui\n",
    "            return Node(key)\n",
    "        if key < node.key:\n",
    "            # Se a chave é menor, insere na subárvore esquerda\n",
    "            node.left = self._insert_recursive(node.left, key)\n",
    "        elif key > node.key:\n",
    "            # Se a chave é maior, insere na subárvore direita\n",
    "            node.right = self._insert_recursive(node.right, key)\n",
    "        return node  # Retorna o nó atual (sem alteração se for valor duplicado)\n",
    "\n",
    "    # Método para gerar uma visualização da árvore e salvar como imagem\n",
    "    def visualize(self, filename='bst'):\n",
    "        dot = Digraph()  # Cria um grafo direcionado vazio\n",
    "        self._add_nodes(dot, self.root)  # Preenche o grafo com os nós da árvore\n",
    "        dot.render(filename, format='png', cleanup=True)  # Gera o arquivo PNG e limpa os temporários\n",
    "        print(f\"Árvore salva como {filename}.png\")  # Mensagem informando onde a imagem foi salva\n",
    "\n",
    "    # Método recursivo auxiliar para adicionar nós e conexões (arestas) ao grafo\n",
    "    def _add_nodes(self, dot, node):\n",
    "        if node:\n",
    "            # Adiciona o nó atual ao grafo (representado pela sua chave)\n",
    "            dot.node(str(node.key), str(node.key))\n",
    "            if node.left:\n",
    "                # Se existir filho à esquerda, cria uma aresta e continua recursivamente\n",
    "                dot.edge(str(node.key), str(node.left.key))\n",
    "                self._add_nodes(dot, node.left)\n",
    "            if node.right:\n",
    "                # Se existir filho à direita, cria uma aresta e continua recursivamente\n",
    "                dot.edge(str(node.key), str(node.right.key))\n",
    "                self._add_nodes(dot, node.right)\n"
   ]
  },
  {
   "cell_type": "code",
   "execution_count": 18,
   "metadata": {
    "colab": {
     "base_uri": "https://localhost:8080/",
     "height": 382
    },
    "executionInfo": {
     "elapsed": 74,
     "status": "ok",
     "timestamp": 1742908106765,
     "user": {
      "displayName": "Vilson Soares de Siqueira",
      "userId": "04552183210996004483"
     },
     "user_tz": 180
    },
    "id": "CocEBth4GFE3",
    "outputId": "235754ca-f031-4a3d-f5c5-1fb4d8a8c1dc"
   },
   "outputs": [
    {
     "name": "stdout",
     "output_type": "stream",
     "text": [
      "Árvore salva como tree.png\n"
     ]
    },
    {
     "data": {
      "image/png": "[encoded data removed]",
      "text/plain": [
       "<IPython.core.display.Image object>"
      ]
     },
     "execution_count": 18,
     "metadata": {},
     "output_type": "execute_result"
    }
   ],
   "source": [
    "# criar a árvore vazia\n",
    "bst = BinarySearchTree()\n",
    "\n",
    "# insere os nós na árvore\n",
    "for valor in [8, 3, 10, 6, 14, 1, 7, 13, 4]:\n",
    "    bst.insert(valor)\n",
    "\n",
    "# cria a imagem da árvore\n",
    "bst.visualize(\"tree\")\n",
    "\n",
    "# mostra a imagem no colab\n",
    "Image(filename='/content/tree.png')"
   ]
  },
  {
   "cell_type": "markdown",
   "metadata": {
    "id": "YXRx8drmcQEg"
   },
   "source": [
    "## Tipos de percursos em árvore binária\n",
    "\n",
    "<img src=\"https://pythonhelp.wordpress.com/wp-content/uploads/2015/01/image12.png?w=800\" width=\"800\"/>\n",
    "\n",
    "### Em-ordem (In-order)\n",
    "- Ordem: esquerda → raiz → direita\n",
    "  - Usado principalmente em:\n",
    "Árvores binárias de busca, porque retorna os valores em ordem crescente.\n",
    "\n",
    "\n",
    "\n",
    "### Pré-ordem (Pre-order)\n",
    " - Ordem: raiz → esquerda → direita\n",
    " - Usado em Reconstrução da árvore a partir de listas de percursos.\n",
    "\n",
    "\n",
    "3. Pós-ordem (Post-order)\n",
    "🔁 Ordem: esquerda → direita → raiz\n",
    "✅ Usado em:\n",
    "Remoção de todos os nós (ex: deletar a árvore).\n",
    "\n",
    "Avaliação de expressões matemáticas (em árvores de expressão).\n",
    "\n",
    "\n",
    "|Percurso|\tResultado |\n",
    "|--------------|-------------------------|\n",
    "|Em-ordem|\t[A,B,C,D,E,F,G,H,1]|\n",
    "|Pré-ordem|\t[F,B,A,D,C,E,G,I,H]|\n",
    "|Pós-ordem|\t[A,C,E,D,B,H,I,G,F]|\n",
    "\n",
    "\n",
    "### Resumo\n",
    "|Tipo| Ordem de visita|\tAplicação típica|\n",
    "|--------|---------------------|----------------------------------------|\n",
    "|Em-ordem|\tesquerda → raiz → direita|\tRetornar elementos em ordem crescente|\n",
    "|Pré-ordem|\traiz → esquerda → direita|\tCópia ou reconstrução da árvore|\n",
    "|Pós-ordem|\tesquerda → direita → raiz|\tLiberação de memória, avaliação de expressão |\n",
    "\n",
    "\n",
    "\n",
    "\n",
    "##Implementação\n"
   ]
  },
  {
   "cell_type": "code",
   "execution_count": 21,
   "metadata": {
    "executionInfo": {
     "elapsed": 4,
     "status": "ok",
     "timestamp": 1742912245549,
     "user": {
      "displayName": "Vilson Soares de Siqueira",
      "userId": "04552183210996004483"
     },
     "user_tz": 180
    },
    "id": "CbBb3gdyHWye"
   },
   "outputs": [],
   "source": [
    "# Instalar a biblioteca graphviz no Google Colab (executa no terminal)\n",
    "# !pip install graphviz # Deve ser instalado apenas se tiver em outro ambiente\n",
    "\n",
    "# Importa a classe Digraph para criar gráficos direcionados\n",
    "from graphviz import Digraph\n",
    "# Importa a função Image para exibir imagens diretamente no Colab\n",
    "from IPython.display import Image\n",
    "\n",
    "# Define a classe do nó da árvore binária\n",
    "class Node:\n",
    "    def __init__(self, key):\n",
    "        self.key = key      # Valor (chave) do nó\n",
    "        self.left = None    # Ponteiro para o filho à esquerda\n",
    "        self.right = None   # Ponteiro para o filho à direita\n",
    "\n",
    "# Define a classe da árvore binária de busca\n",
    "class BinarySearchTree:\n",
    "    def __init__(self):\n",
    "        self.root = None    # Inicialmente a árvore está vazia\n",
    "\n",
    "    # Função pública para inserir um valor na árvore\n",
    "    def insert(self, key):\n",
    "        self.root = self._insert_recursive(self.root, key)  # Chama recursivamente a inserção\n",
    "\n",
    "    # Função auxiliar recursiva para inserção\n",
    "    def _insert_recursive(self, node, key):\n",
    "        if not node:\n",
    "            return Node(key)    # Se o local está vazio, cria novo nó\n",
    "        if key < node.key:\n",
    "            node.left = self._insert_recursive(node.left, key)  # Insere à esquerda\n",
    "        elif key > node.key:\n",
    "            node.right = self._insert_recursive(node.right, key)  # Insere à direita\n",
    "        return node\n",
    "\n",
    "    # Função pública para buscar um valor\n",
    "    def search(self, key):\n",
    "        return self._search_recursive(self.root, key)  # Chama recursivamente a busca\n",
    "\n",
    "    # Função auxiliar recursiva para busca\n",
    "    def _search_recursive(self, node, key):\n",
    "        if not node:\n",
    "            return False     # Nó não encontrado\n",
    "        if key == node.key:\n",
    "            return True      # Valor encontrado\n",
    "        elif key < node.key:\n",
    "            return self._search_recursive(node.left, key)  # Busca à esquerda\n",
    "        else:\n",
    "            return self._search_recursive(node.right, key)  # Busca à direita\n",
    "\n",
    "    # Função pública para remover um valor da árvore\n",
    "    def remove(self, key):\n",
    "        self.root = self._remove_recursive(self.root, key)  # Chama recursivamente a remoção\n",
    "\n",
    "    # Função auxiliar recursiva para remoção\n",
    "    def _remove_recursive(self, node, key):\n",
    "        if not node:\n",
    "            return None  # Nó não encontrado\n",
    "        if key < node.key:\n",
    "            node.left = self._remove_recursive(node.left, key)  # Busca na subárvore esquerda\n",
    "        elif key > node.key:\n",
    "            node.right = self._remove_recursive(node.right, key)  # Busca na subárvore direita\n",
    "        else:\n",
    "            # Caso 1: sem filho à esquerda\n",
    "            if not node.left:\n",
    "                return node.right\n",
    "            # Caso 2: sem filho à direita\n",
    "            elif not node.right:\n",
    "                return node.left\n",
    "            # Caso 3: dois filhos\n",
    "            min_larger_node = self._min_value_node(node.right)  # Menor valor da subárvore direita\n",
    "            node.key = min_larger_node.key                      # Substitui o valor do nó atual\n",
    "            node.right = self._remove_recursive(node.right, min_larger_node.key)  # Remove duplicata\n",
    "        return node\n",
    "\n",
    "    # Função auxiliar que retorna o nó com menor valor (usado na remoção)\n",
    "    def _min_value_node(self, node):\n",
    "        current = node\n",
    "        while current.left:\n",
    "            current = current.left  # Vai até o nó mais à esquerda\n",
    "        return current\n",
    "\n",
    "    # Função pública para percurso em pré-ordem\n",
    "    def pre_order(self):\n",
    "        return self._pre_order_recursive(self.root)\n",
    "\n",
    "    # Função recursiva para pré-ordem: raiz → esquerda → direita\n",
    "    def _pre_order_recursive(self, node):\n",
    "        if not node:\n",
    "            return []\n",
    "        return [node.key] + self._pre_order_recursive(node.left) + self._pre_order_recursive(node.right)\n",
    "\n",
    "    # Função pública para percurso em ordem\n",
    "    def in_order(self):\n",
    "        return self._in_order_recursive(self.root)\n",
    "\n",
    "    # Função recursiva para em ordem: esquerda → raiz → direita\n",
    "    def _in_order_recursive(self, node):\n",
    "        if not node:\n",
    "            return []\n",
    "        return self._in_order_recursive(node.left) + [node.key] + self._in_order_recursive(node.right)\n",
    "\n",
    "    # Função pública para percurso em pós-ordem\n",
    "    def post_order(self):\n",
    "        return self._post_order_recursive(self.root)\n",
    "\n",
    "    # Função recursiva para pós-ordem: esquerda → direita → raiz\n",
    "    def _post_order_recursive(self, node):\n",
    "        if not node:\n",
    "            return []\n",
    "        return self._post_order_recursive(node.left) + self._post_order_recursive(node.right) + [node.key]\n",
    "\n",
    "    # Função para visualizar a árvore usando Graphviz\n",
    "    def visualize(self, filename='bst_full'):\n",
    "        dot = Digraph()                         # Cria um grafo direcionado\n",
    "        self._add_nodes(dot, self.root)         # Adiciona os nós da árvore no grafo\n",
    "        dot.render(filename, format='png', cleanup=True)  # Gera o arquivo .png\n",
    "        return Image(filename=filename + '.png')  # Retorna a imagem para visualização no notebook\n",
    "\n",
    "    # Função recursiva para adicionar os nós e arestas no grafo\n",
    "    def _add_nodes(self, dot, node):\n",
    "        if node:\n",
    "            dot.node(str(node.key), str(node.key))  # Adiciona o nó atual ao gráfico\n",
    "            if node.left:\n",
    "                dot.edge(str(node.key), str(node.left.key))  # Conecta com o filho à esquerda\n",
    "                self._add_nodes(dot, node.left)              # Recursão à esquerda\n",
    "            if node.right:\n",
    "                dot.edge(str(node.key), str(node.right.key))  # Conecta com o filho à direita\n",
    "                self._add_nodes(dot, node.right)              # Recursão à direita\n"
   ]
  },
  {
   "cell_type": "code",
   "execution_count": 24,
   "metadata": {
    "colab": {
     "base_uri": "https://localhost:8080/",
     "height": 268
    },
    "executionInfo": {
     "elapsed": 37,
     "status": "ok",
     "timestamp": 1742912413620,
     "user": {
      "displayName": "Vilson Soares de Siqueira",
      "userId": "04552183210996004483"
     },
     "user_tz": 180
    },
    "id": "SiekPzPDHbKO",
    "outputId": "0bdcccc7-ce4e-4e0e-8dd6-b9f89539561a"
   },
   "outputs": [
    {
     "data": {
      "image/png": "[encoded data removed]",
      "text/plain": [
       "<IPython.core.display.Image object>"
      ]
     },
     "execution_count": 24,
     "metadata": {},
     "output_type": "execute_result"
    }
   ],
   "source": [
    "# Teste Insert\n",
    "bst = BinarySearchTree()\n",
    "valores = [50, 30, 70, 20, 40, 60, 80]\n",
    "for v in valores:\n",
    "    bst.insert(v)\n",
    "\n",
    "# Visualizar árvore\n",
    "bst.visualize(\"bst_exemplo\")\n"
   ]
  },
  {
   "cell_type": "code",
   "execution_count": 25,
   "metadata": {
    "colab": {
     "base_uri": "https://localhost:8080/"
    },
    "executionInfo": {
     "elapsed": 6,
     "status": "ok",
     "timestamp": 1742912416148,
     "user": {
      "displayName": "Vilson Soares de Siqueira",
      "userId": "04552183210996004483"
     },
     "user_tz": 180
    },
    "id": "QYWgq2r1q3SU",
    "outputId": "fc4027e9-cc76-443c-b4fb-6245d6952b1c"
   },
   "outputs": [
    {
     "name": "stdout",
     "output_type": "stream",
     "text": [
      "Busca 60: True\n",
      "Busca 25: False\n"
     ]
    }
   ],
   "source": [
    "# busca de um elemento na árvore\n",
    "print(\"Busca 60:\", bst.search(60))  # True\n",
    "print(\"Busca 25:\", bst.search(25))  # False"
   ]
  },
  {
   "cell_type": "code",
   "execution_count": 26,
   "metadata": {
    "colab": {
     "base_uri": "https://localhost:8080/"
    },
    "executionInfo": {
     "elapsed": 10,
     "status": "ok",
     "timestamp": 1742912419057,
     "user": {
      "displayName": "Vilson Soares de Siqueira",
      "userId": "04552183210996004483"
     },
     "user_tz": 180
    },
    "id": "5sbjmSWzrEtM",
    "outputId": "8d14a4c5-88f4-4176-e32a-a58a261dcb11"
   },
   "outputs": [
    {
     "name": "stdout",
     "output_type": "stream",
     "text": [
      "Pré-ordem: [50, 30, 20, 40, 70, 60, 80]\n",
      "Em ordem: [20, 30, 40, 50, 60, 70, 80]\n",
      "Pós-ordem: [20, 40, 30, 60, 80, 70, 50]\n"
     ]
    }
   ],
   "source": [
    "# Tipos de busca na árvore\n",
    "print(\"Pré-ordem:\", bst.pre_order())\n",
    "print(\"Em ordem:\", bst.in_order())\n",
    "print(\"Pós-ordem:\", bst.post_order())"
   ]
  },
  {
   "cell_type": "code",
   "execution_count": 27,
   "metadata": {
    "colab": {
     "base_uri": "https://localhost:8080/",
     "height": 286
    },
    "executionInfo": {
     "elapsed": 7,
     "status": "ok",
     "timestamp": 1742912424239,
     "user": {
      "displayName": "Vilson Soares de Siqueira",
      "userId": "04552183210996004483"
     },
     "user_tz": 180
    },
    "id": "P1EIIp-xKIYX",
    "outputId": "96ea93c3-c829-48ba-f963-31f3220a5816"
   },
   "outputs": [
    {
     "name": "stdout",
     "output_type": "stream",
     "text": [
      "Árvore após remover 70 (in-order): [20, 30, 40, 50, 60, 80]\n"
     ]
    },
    {
     "data": {
      "image/png": "[encoded data removed]",
      "text/plain": [
       "<IPython.core.display.Image object>"
      ]
     },
     "execution_count": 27,
     "metadata": {},
     "output_type": "execute_result"
    }
   ],
   "source": [
    "bst.remove(70)\n",
    "print(\"Árvore após remover 70 (in-order):\", bst.in_order())\n",
    "\n",
    "# Visualizar árvore\n",
    "bst.visualize(\"bst_exemplo\")"
   ]
  },
  {
   "cell_type": "markdown",
   "metadata": {
    "id": "1AaHMZIxp75Q"
   },
   "source": [
    "# FIM\n"
   ]
  }
 ],
 "metadata": {
  "colab": {
   "authorship_tag": "ABX9TyNtjK4p/cIxxslfXy+GwdCa",
   "mount_file_id": "1sb2yMexnQlzAfafZ640HJ12MYpjDthXs",
   "provenance": [
    {
     "file_id": "1aN2JO8awqI12JCnS4KH5dGBjcCjXsjMx",
     "timestamp": 1706879716997
    }
   ]
  },
  "kernelspec": {
   "display_name": "Python 3 (ipykernel)",
   "language": "python",
   "name": "python3"
  },
  "language_info": {
   "codemirror_mode": {
    "name": "ipython",
    "version": 3
   },
   "file_extension": ".py",
   "mimetype": "text/x-python",
   "name": "python",
   "nbconvert_exporter": "python",
   "pygments_lexer": "ipython3",
   "version": "3.11.11"
  }
 },
 "nbformat": 4,
 "nbformat_minor": 4
}
