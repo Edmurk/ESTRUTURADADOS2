{
  "nbformat": 4,
  "nbformat_minor": 0,
  "metadata": {
    "colab": {
      "provenance": []
    },
    "kernelspec": {
      "name": "python3",
      "display_name": "Python 3"
    },
    "language_info": {
      "name": "python"
    }
  },
  "cells": [
    {
      "cell_type": "markdown",
      "source": [
        "# Introdução a Python\n",
        "\n"
      ],
      "metadata": {
        "id": "OJZXe220Dh5e"
      }
    },
    {
      "cell_type": "markdown",
      "source": [
        "# Variáveis\n"
      ],
      "metadata": {
        "id": "aNfW9r9-mOwd"
      }
    },
    {
      "cell_type": "code",
      "execution_count": null,
      "metadata": {
        "id": "4eclqQ529Mr_",
        "colab": {
          "base_uri": "https://localhost:8080/"
        },
        "outputId": "529504d8-1f2c-4af3-a10e-8c665c46b41d"
      },
      "outputs": [
        {
          "output_type": "stream",
          "name": "stdout",
          "text": [
            "<class 'str'>\n",
            "Vilson Soares\n"
          ]
        }
      ],
      "source": [
        "# String\n",
        "nome = \"Vilson Soares\"\n",
        "print(type(nome))\n",
        "print(nome)"
      ]
    },
    {
      "cell_type": "code",
      "source": [
        "# Float\n",
        "moeda = 100.00\n",
        "print(type(moeda))\n",
        "print(moeda)"
      ],
      "metadata": {
        "colab": {
          "base_uri": "https://localhost:8080/"
        },
        "id": "0PxurlEfmN9h",
        "outputId": "c8f52bb2-92f2-4903-a1cf-9348e3c941b4"
      },
      "execution_count": null,
      "outputs": [
        {
          "output_type": "stream",
          "name": "stdout",
          "text": [
            "<class 'float'>\n",
            "100.0\n"
          ]
        }
      ]
    },
    {
      "cell_type": "code",
      "source": [
        "# integer\n",
        "numero = 100\n",
        "print(type(numero))\n",
        "print(numero)"
      ],
      "metadata": {
        "colab": {
          "base_uri": "https://localhost:8080/"
        },
        "id": "nnGiEkiboElm",
        "outputId": "e723ea78-0662-460c-99c8-539f837adedd"
      },
      "execution_count": null,
      "outputs": [
        {
          "output_type": "stream",
          "name": "stdout",
          "text": [
            "<class 'int'>\n",
            "100\n"
          ]
        }
      ]
    },
    {
      "cell_type": "code",
      "source": [
        "# booleanos\n",
        "verdadeiro = True\n",
        "falso = False\n",
        "print(type(verdadeiro))\n",
        "print(verdadeiro)\n",
        "print(falso)"
      ],
      "metadata": {
        "colab": {
          "base_uri": "https://localhost:8080/"
        },
        "id": "7KnAI8aJoxpL",
        "outputId": "3790d988-3353-4aa5-d88f-ea1efc7205e6"
      },
      "execution_count": null,
      "outputs": [
        {
          "output_type": "stream",
          "name": "stdout",
          "text": [
            "<class 'bool'>\n",
            "True\n",
            "False\n"
          ]
        }
      ]
    },
    {
      "cell_type": "markdown",
      "source": [
        "## Estrutura de Dados"
      ],
      "metadata": {
        "id": "tktJ3V7yAQyx"
      }
    },
    {
      "cell_type": "code",
      "source": [
        "# Listas\n",
        "lista = [1, 2, 3, 4, 5]\n",
        "print(type(lista))\n",
        "print(lista)"
      ],
      "metadata": {
        "colab": {
          "base_uri": "https://localhost:8080/"
        },
        "id": "s592j2nApJGZ",
        "outputId": "bd0587b1-c212-4f98-8058-f0754dab3ea9"
      },
      "execution_count": null,
      "outputs": [
        {
          "output_type": "stream",
          "name": "stdout",
          "text": [
            "<class 'list'>\n",
            "[1, 2, 3, 4, 5]\n"
          ]
        }
      ]
    },
    {
      "cell_type": "code",
      "source": [
        "# matrizes\n",
        "matriz = [[1, 2, 3], [4, 5, 6]]\n",
        "print(type(matriz))\n",
        "print(matriz)"
      ],
      "metadata": {
        "colab": {
          "base_uri": "https://localhost:8080/"
        },
        "id": "seb9wqeppvib",
        "outputId": "e180c576-ed92-4025-d1f8-e902e6f58a6e"
      },
      "execution_count": null,
      "outputs": [
        {
          "output_type": "stream",
          "name": "stdout",
          "text": [
            "<class 'list'>\n",
            "[[1, 2, 3], [4, 5, 6]]\n"
          ]
        }
      ]
    },
    {
      "cell_type": "code",
      "source": [
        "matriz[1][2] = 15\n",
        "matriz"
      ],
      "metadata": {
        "colab": {
          "base_uri": "https://localhost:8080/"
        },
        "id": "Tr-lhLTbsD2T",
        "outputId": "7ea03aca-7209-4d25-ca33-108233884b84"
      },
      "execution_count": null,
      "outputs": [
        {
          "output_type": "execute_result",
          "data": {
            "text/plain": [
              "[[1, 2, 3], [4, 5, 15]]"
            ]
          },
          "metadata": {},
          "execution_count": 14
        }
      ]
    },
    {
      "cell_type": "code",
      "source": [
        "# Tuplas\n",
        "tupla = (1, 2, 3, 4, 5)\n",
        "print(type(tupla))\n",
        "print(tupla)"
      ],
      "metadata": {
        "colab": {
          "base_uri": "https://localhost:8080/"
        },
        "id": "Jru_V4kvs0zQ",
        "outputId": "155466ab-9f3b-441c-eb53-f3751c9af783"
      },
      "execution_count": null,
      "outputs": [
        {
          "output_type": "stream",
          "name": "stdout",
          "text": [
            "<class 'tuple'>\n",
            "(1, 2, 3, 4, 5)\n"
          ]
        }
      ]
    },
    {
      "cell_type": "code",
      "source": [
        "#tupla matriz\n",
        "tupla_matriz = ((1, 2, 3), (4, 5, 6))\n",
        "print(type(tupla_matriz))\n",
        "print(tupla_matriz)"
      ],
      "metadata": {
        "colab": {
          "base_uri": "https://localhost:8080/"
        },
        "id": "jFQqgQ14tBzk",
        "outputId": "ac450f3e-fb04-426c-9afe-63aa05dffae7"
      },
      "execution_count": null,
      "outputs": [
        {
          "output_type": "stream",
          "name": "stdout",
          "text": [
            "<class 'tuple'>\n",
            "((1, 2, 3), (4, 5, 6))\n"
          ]
        }
      ]
    },
    {
      "cell_type": "code",
      "source": [
        "# dicionarios\n",
        "dicionario = {\n",
        "             \"nome\": \"Vilson\",\n",
        "             \"idade\": 30,\n",
        "             \"cidade\": \"São Paulo\"\n",
        "             }\n",
        "print(type(dicionario))\n",
        "print(dicionario)"
      ],
      "metadata": {
        "colab": {
          "base_uri": "https://localhost:8080/"
        },
        "id": "LP4Vgi4ltpKm",
        "outputId": "1a638219-e1af-406c-92c6-ed2f3d4e9e96"
      },
      "execution_count": null,
      "outputs": [
        {
          "output_type": "stream",
          "name": "stdout",
          "text": [
            "<class 'dict'>\n",
            "{'nome': 'Vilson', 'idade': 30, 'cidade': 'São Paulo'}\n"
          ]
        }
      ]
    },
    {
      "cell_type": "code",
      "source": [
        "dicionario_lista = {\n",
        "             \"lista\": [1, 2, 3, 4, 5]\n",
        "             }\n",
        "dicionario_lista['lista']"
      ],
      "metadata": {
        "colab": {
          "base_uri": "https://localhost:8080/"
        },
        "id": "uOo0VZ_wvNVD",
        "outputId": "a43245d6-993b-473c-d0be-2e8f14aec8d9"
      },
      "execution_count": null,
      "outputs": [
        {
          "output_type": "execute_result",
          "data": {
            "text/plain": [
              "[1, 2, 3, 4, 5]"
            ]
          },
          "metadata": {},
          "execution_count": 19
        }
      ]
    },
    {
      "cell_type": "code",
      "source": [
        "dicionario_lista['lista'][2] = 10\n",
        "dicionario_lista\n",
        "dicionario"
      ],
      "metadata": {
        "colab": {
          "base_uri": "https://localhost:8080/"
        },
        "id": "SD_D7WyVvlKe",
        "outputId": "7cfd249a-fa0b-4e38-b2c8-2895fc739736"
      },
      "execution_count": null,
      "outputs": [
        {
          "output_type": "execute_result",
          "data": {
            "text/plain": [
              "{'nome': 'Vilson', 'idade': 30, 'cidade': 'São Paulo'}"
            ]
          },
          "metadata": {},
          "execution_count": 21
        }
      ]
    },
    {
      "cell_type": "markdown",
      "source": [
        "## Operadores"
      ],
      "metadata": {
        "id": "KAiPSRjVAa4A"
      }
    },
    {
      "cell_type": "code",
      "source": [
        "# Operações Aritmeticas\n",
        "\n",
        "a = 15\n",
        "b = 20\n",
        "\n",
        "print(\"Soma: \",a + b)\n",
        "print(\"Subtração: \", a - b)\n",
        "print(\"Multiplicação: \",a * b)\n",
        "print(\"Divisão: \",a / b)\n",
        "print(\"Resto: \",a % b)\n",
        "print(\"Exponenciação: \", a ** b)\n",
        "print(\"Parte inteira da divisão: \", b // a)\n"
      ],
      "metadata": {
        "colab": {
          "base_uri": "https://localhost:8080/"
        },
        "id": "TgXimnOqSfPK",
        "outputId": "2d38e491-3a4a-4aaa-803b-490a28b40b76"
      },
      "execution_count": null,
      "outputs": [
        {
          "output_type": "stream",
          "name": "stdout",
          "text": [
            "Soma:  35\n",
            "Subtração:  -5\n",
            "Multiplicação:  300\n",
            "Divisão:  0.75\n",
            "Resto:  15\n",
            "Exponenciação:  332525673007965087890625\n",
            "Parte inteira da divisão:  1\n"
          ]
        }
      ]
    },
    {
      "cell_type": "code",
      "source": [
        "# operadores Comparação\n",
        "\n",
        "a = 10\n",
        "b = 20\n",
        "\n",
        "print(\"Maior que: \", a > b)\n",
        "print(\"Menor que: \", a < b)\n",
        "print(\"Maior ou igual a: \", a >= b)\n",
        "print(\"Menor ou igual a: \", a <= b)\n",
        "print(\"Igual a: \", a == b)\n",
        "print(\"Diferente de: \", a != b)"
      ],
      "metadata": {
        "colab": {
          "base_uri": "https://localhost:8080/"
        },
        "id": "WzgnDSqMU2wM",
        "outputId": "1047cfc6-9dfc-4d94-c955-bd2871c61f56"
      },
      "execution_count": null,
      "outputs": [
        {
          "output_type": "stream",
          "name": "stdout",
          "text": [
            "Maior que:  False\n",
            "Menor que:  True\n",
            "Maior que:  False\n",
            "Menor que:  True\n",
            "Igual a:  False\n",
            "Diferente de:  True\n"
          ]
        }
      ]
    },
    {
      "cell_type": "code",
      "source": [
        "# Operadores logicos\n",
        "\n",
        "a = 10\n",
        "b = 20\n",
        "\n",
        "print()"
      ],
      "metadata": {
        "id": "-zdVAfUbWDMt"
      },
      "execution_count": null,
      "outputs": []
    },
    {
      "cell_type": "code",
      "source": [
        "a = 10\n",
        "b = 15\n",
        "\n",
        "print(a+b)"
      ],
      "metadata": {
        "id": "f0tygOziWYrG"
      },
      "execution_count": null,
      "outputs": []
    },
    {
      "cell_type": "markdown",
      "source": [
        "## Manipulçao de Listas\n",
        "\n",
        "**append()**: Adiciona um elemento ao final da lista.\n",
        "\n",
        "**insert(position, value)**: Insere um elemento em uma posição específica da lista.\n",
        "\n",
        "**remove()**: Remove o primeiro elemento da lista que corresponda ao valor especificado.\n",
        "\n",
        "**pop()**: Remove e retorna o último elemento da lista.\n",
        "\n",
        "**index()**: Retorna o índice do primeiro elemento com o valor especificado.\n",
        "\n",
        "**count()**: Retorna o número de ocorrências de um determinado elemento na lista.\n",
        "\n",
        "**sorted(lista)**: Ordena os elementos da lista em ordem crescente."
      ],
      "metadata": {
        "id": "DM13L0v0XgGC"
      }
    },
    {
      "cell_type": "code",
      "source": [
        "Lista = [5,10,48]\n",
        "Lista"
      ],
      "metadata": {
        "colab": {
          "base_uri": "https://localhost:8080/"
        },
        "id": "AzR-87xPX3Lc",
        "outputId": "69f98130-9964-402c-972d-4ce15098a18d"
      },
      "execution_count": null,
      "outputs": [
        {
          "output_type": "execute_result",
          "data": {
            "text/plain": [
              "[5, 10, 48]"
            ]
          },
          "metadata": {},
          "execution_count": 3
        }
      ]
    },
    {
      "cell_type": "code",
      "source": [
        "Lista.append(100)\n",
        "Lista"
      ],
      "metadata": {
        "colab": {
          "base_uri": "https://localhost:8080/"
        },
        "id": "pOANYxVFYKG8",
        "outputId": "720831e7-aebf-4788-824c-3126ec337784"
      },
      "execution_count": null,
      "outputs": [
        {
          "output_type": "execute_result",
          "data": {
            "text/plain": [
              "[5, 10, 48, 100]"
            ]
          },
          "metadata": {},
          "execution_count": 4
        }
      ]
    },
    {
      "cell_type": "code",
      "source": [
        "Lista.insert(0,120)\n",
        "Lista"
      ],
      "metadata": {
        "colab": {
          "base_uri": "https://localhost:8080/"
        },
        "id": "Q2IMsmEeYXAD",
        "outputId": "d59caf51-0f25-4e4a-ff74-1962f992526f"
      },
      "execution_count": null,
      "outputs": [
        {
          "output_type": "execute_result",
          "data": {
            "text/plain": [
              "[120, 5, 10, 48, 100]"
            ]
          },
          "metadata": {},
          "execution_count": 5
        }
      ]
    },
    {
      "cell_type": "code",
      "source": [
        "Lista.pop()\n",
        "Lista"
      ],
      "metadata": {
        "colab": {
          "base_uri": "https://localhost:8080/"
        },
        "id": "hVgb1mqYZqkB",
        "outputId": "42ece8dd-de68-41bf-b7d6-ce153d1f6088"
      },
      "execution_count": null,
      "outputs": [
        {
          "output_type": "execute_result",
          "data": {
            "text/plain": [
              "[120, 5, 10, 48]"
            ]
          },
          "metadata": {},
          "execution_count": 6
        }
      ]
    },
    {
      "cell_type": "code",
      "source": [
        "indice = Lista.index(5)\n",
        "indice"
      ],
      "metadata": {
        "colab": {
          "base_uri": "https://localhost:8080/"
        },
        "id": "nW1jz78kaMGS",
        "outputId": "bd7dd0b1-9a07-4ec3-f8b4-2540e1254bb1"
      },
      "execution_count": null,
      "outputs": [
        {
          "output_type": "execute_result",
          "data": {
            "text/plain": [
              "1"
            ]
          },
          "metadata": {},
          "execution_count": 7
        }
      ]
    },
    {
      "cell_type": "code",
      "source": [
        "Lista = [10,4,9,4,8]\n",
        "indice = Lista.index(4)\n",
        "indice"
      ],
      "metadata": {
        "colab": {
          "base_uri": "https://localhost:8080/"
        },
        "id": "dUmwM74kadAU",
        "outputId": "37ca7693-670d-477d-8394-8b93a9a2fed7"
      },
      "execution_count": null,
      "outputs": [
        {
          "output_type": "execute_result",
          "data": {
            "text/plain": [
              "1"
            ]
          },
          "metadata": {},
          "execution_count": 10
        }
      ]
    },
    {
      "cell_type": "code",
      "source": [
        "cont = Lista.count(4)\n",
        "cont"
      ],
      "metadata": {
        "colab": {
          "base_uri": "https://localhost:8080/"
        },
        "id": "SixyrZdPa2Ad",
        "outputId": "b2c447d4-715a-4880-ed83-2c1eaaf2778f"
      },
      "execution_count": null,
      "outputs": [
        {
          "output_type": "execute_result",
          "data": {
            "text/plain": [
              "2"
            ]
          },
          "metadata": {},
          "execution_count": 11
        }
      ]
    },
    {
      "cell_type": "code",
      "source": [
        "Lista2 = sorted(Lista)\n",
        "Lista2"
      ],
      "metadata": {
        "colab": {
          "base_uri": "https://localhost:8080/"
        },
        "id": "fdOl7Dl0bFD6",
        "outputId": "6fae14da-eab1-4ff6-b52f-729cfcb1c8dc"
      },
      "execution_count": null,
      "outputs": [
        {
          "output_type": "execute_result",
          "data": {
            "text/plain": [
              "[4, 4, 8, 9, 10]"
            ]
          },
          "metadata": {},
          "execution_count": 12
        }
      ]
    },
    {
      "cell_type": "code",
      "source": [
        "import random"
      ],
      "metadata": {
        "id": "VUVt-o_Bbc0i"
      },
      "execution_count": null,
      "outputs": []
    },
    {
      "cell_type": "code",
      "source": [
        "#Sorteio\n",
        "\n",
        "sorteio = ['João', 'Maria', 'José', 'Pedro', 'Ana']\n",
        "sorteado = random.randrange(0, len(sorteio))\n",
        "sorteio[sorteado]"
      ],
      "metadata": {
        "colab": {
          "base_uri": "https://localhost:8080/",
          "height": 35
        },
        "id": "wiyb5zC1bhTz",
        "outputId": "fee9402b-7053-4814-93ec-185428d4a4fe"
      },
      "execution_count": null,
      "outputs": [
        {
          "output_type": "execute_result",
          "data": {
            "text/plain": [
              "'José'"
            ],
            "application/vnd.google.colaboratory.intrinsic+json": {
              "type": "string"
            }
          },
          "metadata": {},
          "execution_count": 22
        }
      ]
    },
    {
      "cell_type": "markdown",
      "source": [
        "## Estruturas Condicionais\n",
        "\n",
        "### Estrutura Básica"
      ],
      "metadata": {
        "id": "DL2qcLobD4iG"
      }
    },
    {
      "cell_type": "code",
      "source": [
        "idade = 18\n",
        "\n",
        "if idade >= 18:\n",
        "    print(\"Você é maior de idade.\")\n",
        "else:\n",
        "    print(\"Você é menor de idade.\")\n"
      ],
      "metadata": {
        "id": "3VWCdGQID9dT"
      },
      "execution_count": null,
      "outputs": []
    },
    {
      "cell_type": "markdown",
      "source": [
        " ## Usando elif (Mais de uma Condição)"
      ],
      "metadata": {
        "id": "m0_htLZ6EJX3"
      }
    },
    {
      "cell_type": "code",
      "source": [
        "nota = 75\n",
        "\n",
        "if nota >= 90:\n",
        "    print(\"Aprovado com excelência!\")\n",
        "elif nota >= 60:\n",
        "    print(\"Aprovado.\")\n",
        "else:\n",
        "    print(\"Reprovado.\")\n"
      ],
      "metadata": {
        "id": "8dXjTHIlEGDz"
      },
      "execution_count": null,
      "outputs": []
    },
    {
      "cell_type": "markdown",
      "source": [
        "## If com Entrada do Usuário"
      ],
      "metadata": {
        "id": "8EjnrTCDEQga"
      }
    },
    {
      "cell_type": "code",
      "source": [
        "senha = input(\"Digite a senha: \")\n",
        "\n",
        "if senha == \"1234\":\n",
        "    print(\"Acesso permitido.\")\n",
        "else:\n",
        "    print(\"Senha incorreta. Tente novamente.\")\n"
      ],
      "metadata": {
        "colab": {
          "base_uri": "https://localhost:8080/"
        },
        "id": "4GC3yx7OEfYD",
        "outputId": "1c2075d7-fdc9-42c0-cb33-3ac8a45c2583"
      },
      "execution_count": 26,
      "outputs": [
        {
          "output_type": "stream",
          "name": "stdout",
          "text": [
            "Digite a senha: 1234\n",
            "Acesso permitido.\n"
          ]
        }
      ]
    },
    {
      "cell_type": "markdown",
      "source": [
        "## If com Operador Lógico (and, or, not)"
      ],
      "metadata": {
        "id": "cRGclR7hEl0F"
      }
    },
    {
      "cell_type": "code",
      "source": [
        "idade = 20\n",
        "tem_ingresso = True\n",
        "\n",
        "if idade >= 18 and tem_ingresso:\n",
        "    print(\"Você pode entrar no evento.\")\n",
        "else:\n",
        "    print(\"Entrada não permitida.\")\n"
      ],
      "metadata": {
        "colab": {
          "base_uri": "https://localhost:8080/"
        },
        "id": "MPGsB-GcEl98",
        "outputId": "09f50119-29cb-4cec-9eec-288b22f116d3"
      },
      "execution_count": 27,
      "outputs": [
        {
          "output_type": "stream",
          "name": "stdout",
          "text": [
            "Você pode entrar no evento.\n"
          ]
        }
      ]
    },
    {
      "cell_type": "markdown",
      "source": [
        "##  If com Lista (in e not in)"
      ],
      "metadata": {
        "id": "-EaSLqEIEzUR"
      }
    },
    {
      "cell_type": "code",
      "source": [
        "frutas = [\"maçã\", \"banana\", \"uva\"]\n",
        "\n",
        "if \"banana\" in frutas:\n",
        "    print(\"Tem banana na lista!\")\n",
        "else:\n",
        "    print(\"Não tem banana na lista.\")\n"
      ],
      "metadata": {
        "colab": {
          "base_uri": "https://localhost:8080/"
        },
        "id": "vrVTMYP6EyD1",
        "outputId": "1d15c0c0-c990-4f65-f0a8-5b230280ee23"
      },
      "execution_count": 28,
      "outputs": [
        {
          "output_type": "stream",
          "name": "stdout",
          "text": [
            "Tem banana na lista!\n"
          ]
        }
      ]
    },
    {
      "cell_type": "markdown",
      "source": [
        " ## If Ternário (Operador Condicional)"
      ],
      "metadata": {
        "id": "mXV8EG-uFMQM"
      }
    },
    {
      "cell_type": "code",
      "source": [
        "idade = 16\n",
        "status = \"Maior de idade\" if idade >= 18 else \"Menor de idade\"\n",
        "print(status)\n"
      ],
      "metadata": {
        "colab": {
          "base_uri": "https://localhost:8080/"
        },
        "id": "6QQTD_iaFIJe",
        "outputId": "2857103d-55dd-424d-dc10-9118caa95165"
      },
      "execution_count": 29,
      "outputs": [
        {
          "output_type": "stream",
          "name": "stdout",
          "text": [
            "Menor de idade\n"
          ]
        }
      ]
    },
    {
      "cell_type": "markdown",
      "source": [
        "## Laços de Repetição"
      ],
      "metadata": {
        "id": "9CVNwZEpAqgn"
      }
    },
    {
      "cell_type": "code",
      "source": [
        "# While\n",
        "\n",
        "ok = True\n",
        "\n",
        "while ok:\n",
        "  print(i)\n",
        "  i += 1\n",
        "  if(i == 10):\n",
        "    ok = False"
      ],
      "metadata": {
        "colab": {
          "base_uri": "https://localhost:8080/"
        },
        "id": "9mjztrTAcwc4",
        "outputId": "6541779c-1509-4746-a480-4e91bd235a70"
      },
      "execution_count": null,
      "outputs": [
        {
          "output_type": "stream",
          "name": "stdout",
          "text": [
            "1\n",
            "2\n",
            "3\n",
            "4\n",
            "5\n",
            "6\n",
            "7\n",
            "8\n",
            "9\n"
          ]
        }
      ]
    },
    {
      "cell_type": "markdown",
      "source": [],
      "metadata": {
        "id": "JrOGWjsCgcWn"
      }
    },
    {
      "cell_type": "code",
      "source": [
        "import random\n",
        "sorteio = ['João', 'Maria', 'José', 'Pedro', 'Ana', 'Aline',\n",
        "           'Mariana', 'Gabriel', 'Adriana', 'Fernanda']\n",
        "# Lista de Ganhadores\n",
        "ganhadores = []\n",
        "\n",
        "num_sorteios = 3\n",
        "\n",
        "while num_sorteios > 0:\n",
        "  sorteado = random.randrange(0, len(sorteio))\n",
        "  ganhadores.append(sorteio[sorteado])\n",
        "  sorteio.pop(sorteado)\n",
        "  num_sorteios -= 1\n",
        "  print(sorteio[sorteado])\n",
        "\n",
        "\n",
        "print(ganhadores)\n",
        "print(sorteio)\n"
      ],
      "metadata": {
        "colab": {
          "base_uri": "https://localhost:8080/"
        },
        "id": "brS4W0MHgXuj",
        "outputId": "5910a438-d0b3-415d-fd71-10c5023f984e"
      },
      "execution_count": 18,
      "outputs": [
        {
          "output_type": "stream",
          "name": "stdout",
          "text": [
            "Maria\n",
            "Aline\n",
            "Fernanda\n",
            "['João', 'Ana', 'Adriana']\n",
            "['Maria', 'José', 'Pedro', 'Aline', 'Mariana', 'Gabriel', 'Fernanda']\n"
          ]
        }
      ]
    },
    {
      "cell_type": "code",
      "source": [
        "def gerarIndividuo(tam_pop):\n",
        "  lista = [i for i in range(tam_pop)]  # lista de indices\n",
        "  novo_individuo = [] # lista vazia\n",
        "  i = 0\n",
        "  while(i < tam_pop):\n",
        "     # pega um elemento na lista\n",
        "     individuo = random.randrange(0, len(lista))\n",
        "     # insere o elemento sorteado e ao novo individuo\n",
        "     novo_individuo.append(lista[individuo])\n",
        "     lista.pop(individuo) # remove individuo\n",
        "     i += 1\n",
        "\n",
        "  return novo_individuo"
      ],
      "metadata": {
        "id": "135dO3uSpG0i"
      },
      "execution_count": 21,
      "outputs": []
    },
    {
      "cell_type": "markdown",
      "source": [
        "# FOR\n",
        "\n",
        "## Loop for com range()"
      ],
      "metadata": {
        "id": "vCwke8hHA1bz"
      }
    },
    {
      "cell_type": "code",
      "source": [
        "for i in range(20):\n",
        "  print(i)"
      ],
      "metadata": {
        "colab": {
          "base_uri": "https://localhost:8080/"
        },
        "id": "yOfy0atYA48M",
        "outputId": "2783b80a-9e9b-4fa2-cb9b-7e7eb8614c13"
      },
      "execution_count": 19,
      "outputs": [
        {
          "output_type": "stream",
          "name": "stdout",
          "text": [
            "0\n",
            "1\n",
            "2\n",
            "3\n",
            "4\n",
            "5\n",
            "6\n",
            "7\n",
            "8\n",
            "9\n",
            "10\n",
            "11\n",
            "12\n",
            "13\n",
            "14\n",
            "15\n",
            "16\n",
            "17\n",
            "18\n",
            "19\n"
          ]
        }
      ]
    },
    {
      "cell_type": "markdown",
      "source": [
        "## for com range(início, fim, passo)"
      ],
      "metadata": {
        "id": "XOQedk-vGA0G"
      }
    },
    {
      "cell_type": "code",
      "source": [
        "for i in range(2, 10, 2):  # Início 2, até 10 (não incluso), pulando de 2 em 2\n",
        "    print(i)\n"
      ],
      "metadata": {
        "colab": {
          "base_uri": "https://localhost:8080/"
        },
        "id": "nhFg0eM_GDS3",
        "outputId": "334bfdee-a6a6-4ac3-ffbf-9a3332877255"
      },
      "execution_count": 30,
      "outputs": [
        {
          "output_type": "stream",
          "name": "stdout",
          "text": [
            "2\n",
            "4\n",
            "6\n",
            "8\n"
          ]
        }
      ]
    },
    {
      "cell_type": "markdown",
      "source": [
        "## Iterando sobre uma Lista\n"
      ],
      "metadata": {
        "id": "iAFkATffGHHt"
      }
    },
    {
      "cell_type": "code",
      "source": [
        "frutas = [\"maçã\", \"banana\", \"uva\"]\n",
        "\n",
        "for fruta in frutas:\n",
        "    print(fruta)\n"
      ],
      "metadata": {
        "colab": {
          "base_uri": "https://localhost:8080/"
        },
        "id": "Sad2kmRlGMDv",
        "outputId": "f9dfe1c1-0bea-41b5-88bb-a10662ee1788"
      },
      "execution_count": 31,
      "outputs": [
        {
          "output_type": "stream",
          "name": "stdout",
          "text": [
            "maçã\n",
            "banana\n",
            "uva\n"
          ]
        }
      ]
    },
    {
      "cell_type": "markdown",
      "source": [
        "## for com enumerate() (Índice e Valor)"
      ],
      "metadata": {
        "id": "XegGndzEGTeP"
      }
    },
    {
      "cell_type": "code",
      "source": [
        "frutas = [\"maçã\", \"banana\", \"uva\"]\n",
        "\n",
        "for indice, fruta in enumerate(frutas):\n",
        "    print(f\"Índice {indice}: {fruta}\")\n"
      ],
      "metadata": {
        "colab": {
          "base_uri": "https://localhost:8080/"
        },
        "id": "HxhqWbF5GTuV",
        "outputId": "4e322848-fa45-4aa0-d9fd-c3377ea30f79"
      },
      "execution_count": 32,
      "outputs": [
        {
          "output_type": "stream",
          "name": "stdout",
          "text": [
            "Índice 0: maçã\n",
            "Índice 1: banana\n",
            "Índice 2: uva\n"
          ]
        }
      ]
    },
    {
      "cell_type": "markdown",
      "source": [
        "## Iteração Pythônica"
      ],
      "metadata": {
        "id": "k4Gc-I8WGdib"
      }
    },
    {
      "cell_type": "code",
      "source": [
        "lista = [i for i in range(20)]\n",
        "lista"
      ],
      "metadata": {
        "colab": {
          "base_uri": "https://localhost:8080/"
        },
        "id": "yFcPz3M9qcUS",
        "outputId": "ad36f320-d6eb-47e7-d334-12f86bf89320"
      },
      "execution_count": 22,
      "outputs": [
        {
          "output_type": "execute_result",
          "data": {
            "text/plain": [
              "[0, 1, 2, 3, 4, 5, 6, 7, 8, 9, 10, 11, 12, 13, 14, 15, 16, 17, 18, 19]"
            ]
          },
          "metadata": {},
          "execution_count": 22
        }
      ]
    },
    {
      "cell_type": "markdown",
      "source": [
        "## Iterando sobre um Dicionário"
      ],
      "metadata": {
        "id": "vWlpBCR3GntF"
      }
    },
    {
      "cell_type": "code",
      "source": [
        "dados = {\"nome\": \"Carlos\", \"idade\": 30, \"cidade\": \"São Paulo\"}\n",
        "\n",
        "for chave, valor in dados.items():\n",
        "    print(f\"{chave}: {valor}\")\n"
      ],
      "metadata": {
        "colab": {
          "base_uri": "https://localhost:8080/"
        },
        "id": "wkT6inbRGkcx",
        "outputId": "1e779c9f-b207-4ec9-b50a-3d52c0a995aa"
      },
      "execution_count": 33,
      "outputs": [
        {
          "output_type": "stream",
          "name": "stdout",
          "text": [
            "nome: Carlos\n",
            "idade: 30\n",
            "cidade: São Paulo\n"
          ]
        }
      ]
    },
    {
      "cell_type": "markdown",
      "source": [
        "## for com zip() (Percorrendo Duas Listas)"
      ],
      "metadata": {
        "id": "sbO2BAg0Gy68"
      }
    },
    {
      "cell_type": "code",
      "source": [
        "nomes = [\"Ana\", \"Carlos\", \"João\"]\n",
        "idades = [25, 30, 40]\n",
        "\n",
        "for nome, idade in zip(nomes, idades):\n",
        "    print(f\"{nome} tem {idade} anos.\")\n"
      ],
      "metadata": {
        "colab": {
          "base_uri": "https://localhost:8080/"
        },
        "id": "FsYDR_1mGvdn",
        "outputId": "e3f8e16f-39db-4fe7-9d83-2cc934767375"
      },
      "execution_count": 34,
      "outputs": [
        {
          "output_type": "stream",
          "name": "stdout",
          "text": [
            "Ana tem 25 anos.\n",
            "Carlos tem 30 anos.\n",
            "João tem 40 anos.\n"
          ]
        }
      ]
    },
    {
      "cell_type": "markdown",
      "source": [
        "## for Aninhado (Loop Dentro de Loop)\n",
        "\n",
        "Podemos usar um for dentro de outro para percorrer matrizes ou tabelas."
      ],
      "metadata": {
        "id": "rPyZblxMHAB-"
      }
    },
    {
      "cell_type": "code",
      "source": [
        "for i in range(4):\n",
        "    for j in range(3):\n",
        "        print(f\"i={i}, j={j}\")\n"
      ],
      "metadata": {
        "colab": {
          "base_uri": "https://localhost:8080/"
        },
        "id": "7SvZkw19HAMq",
        "outputId": "0ea4b432-dafc-4c05-cb3c-44079a544fb0"
      },
      "execution_count": 36,
      "outputs": [
        {
          "output_type": "stream",
          "name": "stdout",
          "text": [
            "i=0, j=0\n",
            "i=0, j=1\n",
            "i=0, j=2\n",
            "i=1, j=0\n",
            "i=1, j=1\n",
            "i=1, j=2\n",
            "i=2, j=0\n",
            "i=2, j=1\n",
            "i=2, j=2\n",
            "i=3, j=0\n",
            "i=3, j=1\n",
            "i=3, j=2\n"
          ]
        }
      ]
    },
    {
      "cell_type": "code",
      "source": [
        "def gerarPopulacao(tam_pop, tam_populacao):\n",
        "  populacao = []\n",
        "  for i in range(tam_populacao):\n",
        "    populacao.append(gerarIndividuo(tam_pop))\n",
        "  return populacao"
      ],
      "metadata": {
        "id": "yN2Mc-M9r0ow"
      },
      "execution_count": 23,
      "outputs": []
    },
    {
      "cell_type": "code",
      "source": [
        "popul = gerarPopulacao(10, 10)"
      ],
      "metadata": {
        "id": "Ofz0zPsIvsj3"
      },
      "execution_count": 24,
      "outputs": []
    },
    {
      "cell_type": "code",
      "source": [
        "popul"
      ],
      "metadata": {
        "colab": {
          "base_uri": "https://localhost:8080/"
        },
        "id": "8Z44nAvVv1lO",
        "outputId": "9ea3722b-4fe4-4cf5-c1ad-712ac571ba0e"
      },
      "execution_count": 25,
      "outputs": [
        {
          "output_type": "execute_result",
          "data": {
            "text/plain": [
              "[[2, 9, 0, 1, 6, 3, 7, 4, 8, 5],\n",
              " [1, 2, 0, 5, 4, 8, 9, 7, 3, 6],\n",
              " [3, 8, 0, 4, 6, 1, 7, 9, 5, 2],\n",
              " [1, 5, 6, 7, 0, 8, 2, 9, 3, 4],\n",
              " [2, 4, 9, 3, 1, 6, 5, 8, 7, 0],\n",
              " [3, 1, 0, 5, 6, 8, 9, 2, 4, 7],\n",
              " [2, 0, 5, 3, 1, 8, 6, 9, 7, 4],\n",
              " [4, 3, 2, 9, 1, 0, 7, 5, 8, 6],\n",
              " [6, 3, 5, 7, 9, 1, 8, 0, 2, 4],\n",
              " [5, 8, 3, 2, 9, 4, 6, 7, 1, 0]]"
            ]
          },
          "metadata": {},
          "execution_count": 25
        }
      ]
    },
    {
      "cell_type": "markdown",
      "source": [
        "## Declaração de Funções\n"
      ],
      "metadata": {
        "id": "EMPWeGxdBdAd"
      }
    },
    {
      "cell_type": "code",
      "source": [
        "##"
      ],
      "metadata": {
        "id": "_sinxJt_BaJv"
      },
      "execution_count": null,
      "outputs": []
    },
    {
      "cell_type": "code",
      "source": [
        "def soma(x,y):\n",
        "  return x + y\n",
        "\n",
        "def subtracao(x,y):\n",
        "  return x - y\n",
        "\n",
        "def multiplicacao(x,y):\n",
        "  return x * y\n",
        "\n",
        "def divisao(x,y):\n",
        "  return x + y"
      ],
      "metadata": {
        "id": "7Qv3hgLUyUD3"
      },
      "execution_count": null,
      "outputs": []
    },
    {
      "cell_type": "code",
      "source": [
        "subtracao(10,20)"
      ],
      "metadata": {
        "colab": {
          "base_uri": "https://localhost:8080/"
        },
        "id": "wTe1CXzqypXe",
        "outputId": "a72c4336-8e1b-4370-bf89-a43b978c55d3"
      },
      "execution_count": null,
      "outputs": [
        {
          "output_type": "execute_result",
          "data": {
            "text/plain": [
              "-10"
            ]
          },
          "metadata": {},
          "execution_count": 78
        }
      ]
    },
    {
      "cell_type": "code",
      "source": [
        "def somatoria(lista):\n",
        "  soma = 0\n",
        "  for i in range(len(lista)):\n",
        "    soma += lista[i]\n",
        "  return soma"
      ],
      "metadata": {
        "id": "aawjJYCqy42z"
      },
      "execution_count": null,
      "outputs": []
    },
    {
      "cell_type": "code",
      "source": [
        "lista = [8,7,50,65,80]\n",
        "somatoria(lista)"
      ],
      "metadata": {
        "colab": {
          "base_uri": "https://localhost:8080/"
        },
        "id": "MVY3yOdM2zzx",
        "outputId": "5f4ce2ea-2631-44ec-da22-260b20c8c5e7"
      },
      "execution_count": null,
      "outputs": [
        {
          "output_type": "execute_result",
          "data": {
            "text/plain": [
              "210"
            ]
          },
          "metadata": {},
          "execution_count": 80
        }
      ]
    },
    {
      "cell_type": "markdown",
      "source": [],
      "metadata": {
        "id": "28Pe69WlDesA"
      }
    },
    {
      "cell_type": "markdown",
      "source": [
        "# POO com python\n",
        "\n",
        "Orientação a Objetos (OO) em Python é um paradigma de programação que organiza o código em torno de objetos. Esses objetos são instâncias de classes, que definem propriedades (atributos) e comportamentos (métodos). Python suporta completamente esse paradigma e oferece recursos como herança, polimorfismo, encapsulamento e abstração.\n",
        "\n",
        "## 1. Conceitos Fundamentais da POO em Python\n",
        " - Classe: Modelo que define atributos e métodos.\n",
        " - Objeto: Instância de uma classe.\n",
        " - Atributo: Variável pertencente a uma classe ou objeto.\n",
        " - Método: Função dentro de uma classe que define comportamentos dos objetos.\n",
        " - Encapsulamento: Controle do acesso a atributos e métodos.\n",
        " - Herança: Capacidade de uma classe herdar atributos e métodos de outra classe.\n",
        " - Polimorfismo: Capacidade de redefinir métodos em classes derivadas.\n",
        "\n",
        " ## 2.Criando uma Classe e um Objeto"
      ],
      "metadata": {
        "id": "Kd__4-mi3Zew"
      }
    },
    {
      "cell_type": "code",
      "source": [
        "class Carro:\n",
        "    def __init__(self, marca, modelo, ano):\n",
        "        self.marca = marca\n",
        "        self.modelo = modelo\n",
        "        self.ano = ano\n",
        "\n",
        "    def exibir_info(self):\n",
        "        return f\"{self.ano} {self.marca} {self.modelo}\"\n",
        "\n",
        "# Criando um objeto da classe Carro\n",
        "meu_carro = Carro(\"Toyota\", \"Corolla\", 2023)\n",
        "print(meu_carro.exibir_info())  # Saída: 2023 Toyota Corolla"
      ],
      "metadata": {
        "colab": {
          "base_uri": "https://localhost:8080/"
        },
        "id": "NAXoREhM3g4a",
        "outputId": "5d9f8127-0067-41e5-be43-11d3ea1c7c0b"
      },
      "execution_count": 1,
      "outputs": [
        {
          "output_type": "stream",
          "name": "stdout",
          "text": [
            "2023 Toyota Corolla\n"
          ]
        }
      ]
    },
    {
      "cell_type": "markdown",
      "source": [
        "## 3. Encapsulamento\n",
        "\n",
        "O encapsulamento protege os atributos de acesso direto, controlando sua modificação através de métodos específicos.\n",
        "\n",
        "O encapsulamento é um dos princípios fundamentais da Programação Orientada a Objetos (POO). Ele consiste na proteção dos atributos e métodos de uma classe para garantir que os dados internos sejam manipulados apenas por meio de métodos específicos. Isso ajuda a evitar acessos não autorizados ou modificações indevidas.\n",
        "\n",
        " - Níveis de Acesso em Python\n",
        "Diferente de outras linguagens como Java e C++, Python não possui modificadores de acesso explícitos como private, protected e public. Em vez disso, a linguagem segue uma convenção baseada em prefixos de underscores (_ e __).\n",
        "\n",
        "### 3.1. Público (public)\n",
        "Atributos e métodos públicos podem ser acessados diretamente de fora da classe."
      ],
      "metadata": {
        "id": "75_RzHZC4H50"
      }
    },
    {
      "cell_type": "code",
      "source": [
        "class Pessoa:\n",
        "    def __init__(self, nome, idade):\n",
        "        self.nome = nome  # Atributo público\n",
        "        self.idade = idade  # Atributo público\n",
        "\n",
        "pessoa = Pessoa(\"Ana\", 25)\n",
        "print(pessoa.nome)  # Ana\n",
        "pessoa.nome = \"Carlos\"  # Modificável diretamente\n",
        "print(pessoa.nome)  # Carlos"
      ],
      "metadata": {
        "colab": {
          "base_uri": "https://localhost:8080/"
        },
        "id": "MqIO7h5p4HYa",
        "outputId": "692aa45f-e557-4666-b74a-9aaa634dd131"
      },
      "execution_count": 2,
      "outputs": [
        {
          "output_type": "stream",
          "name": "stdout",
          "text": [
            "Ana\n",
            "Carlos\n"
          ]
        }
      ]
    },
    {
      "cell_type": "markdown",
      "source": [
        "### 3.2. Protegido (protected)\n",
        "Atributos e métodos protegidos são indicados por um underscore _ no início do nome. Embora possam ser acessados fora da classe, a convenção sugere que eles não devem ser alterados diretamente."
      ],
      "metadata": {
        "id": "qMsEE-Wl5QWa"
      }
    },
    {
      "cell_type": "code",
      "source": [
        "class ContaBancaria:\n",
        "    def __init__(self, titular, saldo):\n",
        "        self.titular = titular\n",
        "        self._saldo = saldo  # Atributo protegido\n",
        "\n",
        "    def exibir_saldo(self):\n",
        "        return f\"Saldo: R${self._saldo}\"\n",
        "\n",
        "conta = ContaBancaria(\"João\", 1000)\n",
        "print(conta.exibir_saldo())  # Saldo: R$1000\n",
        "\n",
        "# Acessando um atributo protegido (não recomendado, mas possível)\n",
        "print(conta._saldo)  # 1000\n"
      ],
      "metadata": {
        "colab": {
          "base_uri": "https://localhost:8080/"
        },
        "id": "ZUG9stUz5Jl0",
        "outputId": "257f3031-b58a-445c-fd2f-ada1230b93da"
      },
      "execution_count": 3,
      "outputs": [
        {
          "output_type": "stream",
          "name": "stdout",
          "text": [
            "Saldo: R$1000\n",
            "1000\n"
          ]
        }
      ]
    },
    {
      "cell_type": "markdown",
      "source": [
        "### 3.3. Privado (private)\n",
        "Atributos e métodos privados são definidos com __ (dois underscores). Isso impede o acesso direto de fora da classe."
      ],
      "metadata": {
        "id": "UGw3b9hm5g8o"
      }
    },
    {
      "cell_type": "code",
      "source": [
        "class ContaSecreta:\n",
        "    def __init__(self, senha):\n",
        "        self.__senha = senha  # Atributo privado\n",
        "\n",
        "    def validar_senha(self, senha):\n",
        "        return senha == self.__senha\n",
        "\n",
        "conta = ContaSecreta(\"1234\")\n",
        "\n",
        "# print(conta.__senha)  # Erro: AttributeError\n",
        "print(conta.validar_senha(\"1234\"))  # True\n"
      ],
      "metadata": {
        "colab": {
          "base_uri": "https://localhost:8080/"
        },
        "id": "NOgtFPMd5nJ2",
        "outputId": "21d38ead-e054-454d-cd03-2cdc7a1f3222"
      },
      "execution_count": 4,
      "outputs": [
        {
          "output_type": "stream",
          "name": "stdout",
          "text": [
            "True\n"
          ]
        }
      ]
    },
    {
      "cell_type": "markdown",
      "source": [
        "### 3.4. Uso de Getter e Setter\n",
        "Como atributos privados não podem ser acessados diretamente, utilizamos métodos especiais para manipulá-los.\n"
      ],
      "metadata": {
        "id": "0jmK9pQT5_Nd"
      }
    },
    {
      "cell_type": "code",
      "source": [
        "class Produto:\n",
        "    def __init__(self, nome, preco):\n",
        "        self.nome = nome\n",
        "        self.__preco = preco  # Privado\n",
        "\n",
        "    def get_preco(self):\n",
        "        return self.__preco\n",
        "\n",
        "    def set_preco(self, novo_preco):\n",
        "        if novo_preco > 0:\n",
        "            self.__preco = novo_preco\n",
        "        else:\n",
        "            print(\"Preço inválido!\")\n",
        "\n",
        "produto = Produto(\"Notebook\", 3000)\n",
        "print(produto.get_preco())  # 3000\n",
        "produto.set_preco(3500)\n",
        "print(produto.get_preco())  # 3500\n",
        "produto.set_preco(-100)  # Preço inválido!"
      ],
      "metadata": {
        "colab": {
          "base_uri": "https://localhost:8080/"
        },
        "id": "xTwfZc_P6ETY",
        "outputId": "530c9df7-be1a-45eb-f007-259b3e85d4fe"
      },
      "execution_count": 5,
      "outputs": [
        {
          "output_type": "stream",
          "name": "stdout",
          "text": [
            "3000\n",
            "3500\n",
            "Preço inválido!\n"
          ]
        }
      ]
    },
    {
      "cell_type": "markdown",
      "source": [
        "## 4. Herança\n",
        "Uma classe pode herdar características de outra, evitando código duplicado.\n",
        "\n",
        "A herança é um dos pilares da Programação Orientada a Objetos (POO) e permite que uma classe (subclasse) herde atributos e métodos de outra classe (superclasse). Isso promove reutilização de código, organização e hierarquia entre as classes.\n",
        "\n",
        "### 4.1. Conceito de Herança\n",
        "Com a herança, podemos criar classes especializadas sem precisar reescrever código já existente. Por exemplo:\n",
        "\n",
        "Classe Animal (superclasse) com características gerais.\n",
        "Classe Cachorro e Gato (subclasses) que herdam de Animal.\n",
        "\n",
        "### 4.2. Criando uma Classe Base (Superclasse)\n"
      ],
      "metadata": {
        "id": "7v7PHgg46R0r"
      }
    },
    {
      "cell_type": "code",
      "source": [
        "class Animal:\n",
        "    def __init__(self, nome):\n",
        "        self.nome = nome\n",
        "\n",
        "    def emitir_som(self):\n",
        "        return \"Som genérico de animal\"\n",
        "\n",
        "# Criando um objeto da classe Animal\n",
        "animal = Animal(\"Ser Vivo\")\n",
        "print(animal.emitir_som())  # Som genérico de animal\n"
      ],
      "metadata": {
        "colab": {
          "base_uri": "https://localhost:8080/"
        },
        "id": "yQyYjYec68Ai",
        "outputId": "cb86cff6-28c4-4b04-b38b-02388fe0ff5d"
      },
      "execution_count": 7,
      "outputs": [
        {
          "output_type": "stream",
          "name": "stdout",
          "text": [
            "Som genérico de animal\n"
          ]
        }
      ]
    },
    {
      "cell_type": "markdown",
      "source": [
        " ## 4.3. Criando uma Subclasse (Herança Simples)"
      ],
      "metadata": {
        "id": "EE46BT4E7Bzr"
      }
    },
    {
      "cell_type": "code",
      "source": [
        "class Cachorro(Animal):  # Cachorro herda de Animal\n",
        "    def emitir_som(self):\n",
        "        return \"Au au!\"\n",
        "\n",
        "class Gato(Animal):  # Gato herda de Animal\n",
        "    def emitir_som(self):\n",
        "        return \"Miau!\"\n",
        "\n",
        "c = Cachorro(\"Rex\")\n",
        "print(c.nome)  # Rex\n",
        "print(c.emitir_som())  # Au au!\n",
        "\n",
        "g = Gato(\"Whiskers\")\n",
        "print(g.nome)  # Whiskers\n",
        "print(g.emitir_som())  # Miau!\n"
      ],
      "metadata": {
        "colab": {
          "base_uri": "https://localhost:8080/"
        },
        "id": "5a1pAd3j7GTx",
        "outputId": "4dde6f6a-25d7-45f3-ad6c-75224725c9cd"
      },
      "execution_count": 8,
      "outputs": [
        {
          "output_type": "stream",
          "name": "stdout",
          "text": [
            "Rex\n",
            "Au au!\n",
            "Whiskers\n",
            "Miau!\n"
          ]
        }
      ]
    },
    {
      "cell_type": "markdown",
      "source": [
        "## 4.4. Uso do super() para Chamar Métodos da Superclasse\n",
        "Se a subclasse precisar adicionar novos atributos ou funcionalidades, podemos chamar o construtor da superclasse (super())."
      ],
      "metadata": {
        "id": "ap-YBW7P7RbS"
      }
    },
    {
      "cell_type": "code",
      "source": [
        "class Veiculo:\n",
        "    def __init__(self, marca, modelo):\n",
        "        self.marca = marca\n",
        "        self.modelo = modelo\n",
        "\n",
        "    def exibir_info(self):\n",
        "        return f\"{self.marca} {self.modelo}\"\n",
        "\n",
        "class Carro(Veiculo):  # Herança de Veiculo\n",
        "    def __init__(self, marca, modelo, portas):\n",
        "        super().__init__(marca, modelo)  # Chama o __init__ da superclasse\n",
        "        self.portas = portas\n",
        "\n",
        "    def exibir_info(self):\n",
        "        return f\"{super().exibir_info()}, {self.portas} portas\"\n",
        "\n",
        "meu_carro = Carro(\"Toyota\", \"Corolla\", 4)\n",
        "print(meu_carro.exibir_info())  # Toyota Corolla, 4 portas\n"
      ],
      "metadata": {
        "colab": {
          "base_uri": "https://localhost:8080/"
        },
        "id": "dsH46Z2H7W4t",
        "outputId": "8b971b66-c3ef-421a-d055-5d8d84715465"
      },
      "execution_count": 9,
      "outputs": [
        {
          "output_type": "stream",
          "name": "stdout",
          "text": [
            "Toyota Corolla, 4 portas\n"
          ]
        }
      ]
    },
    {
      "cell_type": "markdown",
      "source": [
        "## 4.5. Herança Múltipla\n",
        "Python permite herança múltipla, onde uma classe pode herdar de múltiplas classes."
      ],
      "metadata": {
        "id": "JD5N4iix76zB"
      }
    },
    {
      "cell_type": "code",
      "source": [
        "class Mamifero:\n",
        "    def __init__(self):\n",
        "        self.tipo = \"Mamífero\"\n",
        "\n",
        "    def amamentar(self):\n",
        "        return \"Amamentando...\"\n",
        "\n",
        "class Terrestre:\n",
        "    def locomocao(self):\n",
        "        return \"Andando...\"\n",
        "\n",
        "class Cachorro(Mamifero, Terrestre):  # Herança múltipla\n",
        "    def emitir_som(self):\n",
        "        return \"Au au!\"\n",
        "\n",
        "dog = Cachorro()\n",
        "print(dog.tipo)  # Mamífero\n",
        "print(dog.amamentar())  # Amamentando...\n",
        "print(dog.locomocao())  # Andando...\n",
        "print(dog.emitir_som())  # Au au!\n"
      ],
      "metadata": {
        "colab": {
          "base_uri": "https://localhost:8080/"
        },
        "id": "RuS3_LZz791E",
        "outputId": "88751fc2-02ac-432b-a717-784b5128040f"
      },
      "execution_count": 10,
      "outputs": [
        {
          "output_type": "stream",
          "name": "stdout",
          "text": [
            "Mamífero\n",
            "Amamentando...\n",
            "Andando...\n",
            "Au au!\n"
          ]
        }
      ]
    },
    {
      "cell_type": "markdown",
      "source": [
        "## 5. Polimorfismo\n",
        "Permite que métodos com o mesmo nome tenham implementações diferentes em classes distintas.\n",
        "\n",
        "O polimorfismo é um dos conceitos fundamentais da Programação Orientada a Objetos (POO) e permite que diferentes classes utilizem o mesmo nome de método, mas com comportamentos diferentes. Isso torna o código mais flexível e reutilizável.\n",
        "\n",
        "### 5.1. O que é Polimorfismo?\n",
        "O polimorfismo pode ser entendido como:\n",
        "\n",
        "  - Capacidade de um método ter diferentes comportamentos dependendo do objeto que o chama.\n",
        "  - Permite que objetos de diferentes classes sejam tratados de maneira uniforme.\n",
        "  - Facilita a manutenção e a extensão do código.\n",
        "\n",
        "  Exemplo simples:"
      ],
      "metadata": {
        "id": "CvwQmmYm8YXy"
      }
    },
    {
      "cell_type": "code",
      "source": [
        "class Cachorro:\n",
        "    def fazer_som(self):\n",
        "        return \"Au au!\"\n",
        "\n",
        "class Gato:\n",
        "    def fazer_som(self):\n",
        "        return \"Miau!\"\n",
        "\n",
        "# Usando polimorfismo\n",
        "animais = [Cachorro(), Gato()]\n",
        "\n",
        "for animal in animais:\n",
        "    print(animal.fazer_som())\n",
        "# Saída:\n",
        "# Au au!\n",
        "# Miau!\n"
      ],
      "metadata": {
        "colab": {
          "base_uri": "https://localhost:8080/"
        },
        "id": "ZAtdPX5d8U9m",
        "outputId": "4e940e8e-56ce-43b3-f107-922ba2ee8949"
      },
      "execution_count": 11,
      "outputs": [
        {
          "output_type": "stream",
          "name": "stdout",
          "text": [
            "Au au!\n",
            "Miau!\n"
          ]
        }
      ]
    },
    {
      "cell_type": "markdown",
      "source": [
        "## 5.2. Polimorfismo com Herança\n",
        "Quando usamos herança, podemos redefinir métodos para adaptar o comportamento da subclasse.\n",
        "\n"
      ],
      "metadata": {
        "id": "QAQV1-Cj9J8t"
      }
    },
    {
      "cell_type": "code",
      "source": [
        "class Veiculo:\n",
        "    def mover(self):\n",
        "        return \"O veículo está se movendo.\"\n",
        "\n",
        "class Carro(Veiculo):\n",
        "    def mover(self):\n",
        "        return \"O carro está dirigindo na estrada.\"\n",
        "\n",
        "class Barco(Veiculo):\n",
        "    def mover(self):\n",
        "        return \"O barco está navegando na água.\"\n",
        "\n",
        "class Aviao(Veiculo):\n",
        "    def mover(self):\n",
        "        return \"O avião está voando no céu.\"\n",
        "\n",
        "# Criando objetos das subclasses\n",
        "veiculos = [Carro(), Barco(), Aviao()]\n",
        "\n",
        "for v in veiculos:\n",
        "    print(v.mover())\n",
        "\n",
        "# Saída:\n",
        "# O carro está dirigindo na estrada.\n",
        "# O barco está navegando na água.\n",
        "# O avião está voando no céu.\n"
      ],
      "metadata": {
        "colab": {
          "base_uri": "https://localhost:8080/"
        },
        "id": "LTCjFPsS9Gou",
        "outputId": "1295d938-e546-4556-8134-1a5b1ae98a9f"
      },
      "execution_count": 12,
      "outputs": [
        {
          "output_type": "stream",
          "name": "stdout",
          "text": [
            "O carro está dirigindo na estrada.\n",
            "O barco está navegando na água.\n",
            "O avião está voando no céu.\n"
          ]
        }
      ]
    },
    {
      "cell_type": "markdown",
      "source": [
        "## 6. Métodos e Atributos Estáticos\n",
        "Métodos estáticos pertencem à classe e não a uma instância específica."
      ],
      "metadata": {
        "id": "By1ptR7X9m5G"
      }
    },
    {
      "cell_type": "code",
      "source": [
        "class Calculadora:\n",
        "    @staticmethod\n",
        "    def somar(a, b):\n",
        "        return a + b\n",
        "\n",
        "print(Calculadora.somar(5, 3))  # Saída: 8"
      ],
      "metadata": {
        "id": "5SCbQpo89cU-"
      },
      "execution_count": null,
      "outputs": []
    },
    {
      "cell_type": "markdown",
      "source": [
        "## 7. Classes Abstratas\n",
        "\n",
        "As classes abstratas são um conceito essencial da Programação Orientada a Objetos (POO). Elas servem como um modelo base para outras classes, garantindo que todas as subclasses sigam um determinado padrão.\n",
        "\n",
        "### 7.1. O que é uma Classe Abstrata?\n",
        " - Uma classe abstrata é uma classe que não pode ser instanciada diretamente.\n",
        " -  Ela define métodos que devem ser implementados por suas subclasses.\n",
        " -  Serve para garantir que todas as classes derivadas tenham uma estrutura consistente.\n",
        "\n",
        "### 7.2. Como Criar uma Classe Abstrata em Python?\n",
        "Em Python, usamos o módulo abc (Abstract Base Classes) para definir classes abstratas.\n",
        "\n",
        "- Exemplo de Classe Abstrata:"
      ],
      "metadata": {
        "id": "78WWTi1X-WXy"
      }
    },
    {
      "cell_type": "code",
      "source": [
        "from abc import ABC, abstractmethod\n",
        "\n",
        "class Forma(ABC):  # Herda de ABC (Abstract Base Class)\n",
        "\n",
        "    @abstractmethod\n",
        "    def calcular_area(self):\n",
        "        pass  # Método abstrato, deve ser implementado na subclasse\n",
        "\n",
        "# Tentar criar um objeto dessa classe dará erro:\n",
        "# forma = Forma()  # TypeError: Can't instantiate abstract class Forma\n"
      ],
      "metadata": {
        "id": "C7rba15T-PaB"
      },
      "execution_count": 13,
      "outputs": []
    },
    {
      "cell_type": "code",
      "source": [
        "class Quadrado(Forma):\n",
        "    def __init__(self, lado):\n",
        "        self.lado = lado\n",
        "\n",
        "    def calcular_area(self):\n",
        "        return self.lado ** 2\n",
        "\n",
        "class Circulo(Forma):\n",
        "    def __init__(self, raio):\n",
        "        self.raio = raio\n",
        "\n",
        "    def calcular_area(self):\n",
        "        return 3.14 * self.raio ** 2\n",
        "\n",
        "# Criando objetos das subclasses\n",
        "q = Quadrado(4)\n",
        "c = Circulo(3)\n",
        "\n",
        "print(q.calcular_area())  # 16\n",
        "print(c.calcular_area())  # 28.26\n"
      ],
      "metadata": {
        "colab": {
          "base_uri": "https://localhost:8080/"
        },
        "id": "Sa0a3eM89jQX",
        "outputId": "78c0f660-28cc-4afe-ebf2-c4c9a88ac007"
      },
      "execution_count": 14,
      "outputs": [
        {
          "output_type": "stream",
          "name": "stdout",
          "text": [
            "16\n",
            "28.26\n"
          ]
        }
      ]
    },
    {
      "cell_type": "markdown",
      "source": [
        "### 7.3 Classe Abstrata com Métodos Concretos\n",
        "Além de métodos abstratos, a classe abstrata pode ter métodos normais (concretos)."
      ],
      "metadata": {
        "id": "sfw58yfW_XFT"
      }
    },
    {
      "cell_type": "code",
      "source": [
        "class Veiculo(ABC):\n",
        "    def __init__(self, marca):\n",
        "        self.marca = marca\n",
        "\n",
        "    @abstractmethod\n",
        "    def mover(self):\n",
        "        pass  # Obrigatório para subclasses\n",
        "\n",
        "    def exibir_info(self):\n",
        "        return f\"Veículo da marca {self.marca}\"  # Método concreto\n",
        "\n",
        "class Carro(Veiculo):\n",
        "    def mover(self):\n",
        "        return \"O carro está dirigindo.\"\n",
        "\n",
        "c = Carro(\"Toyota\")\n",
        "print(c.exibir_info())  # Veículo da marca Toyota\n",
        "print(c.mover())  # O carro está dirigindo.\n"
      ],
      "metadata": {
        "colab": {
          "base_uri": "https://localhost:8080/"
        },
        "id": "xP7v9OtO_dxt",
        "outputId": "1a7d7170-9f8a-487d-8157-fd807a0ae303"
      },
      "execution_count": 15,
      "outputs": [
        {
          "output_type": "stream",
          "name": "stdout",
          "text": [
            "Veículo da marca Toyota\n",
            "O carro está dirigindo.\n"
          ]
        }
      ]
    }
  ]
}